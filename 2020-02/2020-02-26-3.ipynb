{
 "cells": [
  {
   "cell_type": "code",
   "execution_count": 4,
   "metadata": {},
   "outputs": [],
   "source": [
    "from keras import layers, models\n",
    "import numpy as np\n",
    "from keras import datasets\n",
    "from keras.utils import np_utils\n"
   ]
  },
  {
   "cell_type": "code",
   "execution_count": 5,
   "metadata": {},
   "outputs": [],
   "source": [
    "class DNN(models.Sequential):\n",
    "    def __init__(self, Nin, Nh_l, Nout):\n",
    "        super().__init__()\n",
    "        self.add(layers.Dense(Nh_l[0], activation='relu', input_shape=(Nin,), name='Hidden-1'))\n",
    "        self.add(layers.Dropout(0.2))\n",
    "        self.add(layers.Dense(Nh_l[1], activation='relu', name='Hidden-2'))\n",
    "        self.add(layers.Dropout(0.2))\n",
    "        self.add(layers.Dense(Nout, activation='softmax'))\n",
    "        self.compile(loss='categorical_crossentropy', optimizer='adam', metrics=['accuracy'])"
   ]
  },
  {
   "cell_type": "code",
   "execution_count": 6,
   "metadata": {},
   "outputs": [],
   "source": [
    "def Data_func():\n",
    "    (X_train, Y_train), (X_test, Y_test) = datasets.mnist.load_data()\n",
    "    \n",
    "    Y_train = np_utils.to_categorical(Y_train)\n",
    "    Y_test = np_utils.to_categorical(Y_test)\n",
    "    \n",
    "    L, W, H = X_train.shape\n",
    "    X_train = X_train.reshape(-1, W*H)\n",
    "    X_test = X_test.reshape(-1, W*H)\n",
    "    \n",
    "    X_train = X_train / 255.0\n",
    "    X_test = X_test / 255.0\n",
    "    \n",
    "    return (X_train, Y_train), (X_test, Y_test)"
   ]
  },
  {
   "cell_type": "code",
   "execution_count": 8,
   "metadata": {},
   "outputs": [
    {
     "name": "stdout",
     "output_type": "stream",
     "text": [
      "Train on 48000 samples, validate on 12000 samples\n",
      "Epoch 1/15\n",
      "48000/48000 [==============================] - 6s 125us/step - loss: 0.5255 - accuracy: 0.8415 - val_loss: 0.1958 - val_accuracy: 0.9428\n",
      "Epoch 2/15\n",
      "48000/48000 [==============================] - 6s 117us/step - loss: 0.2431 - accuracy: 0.9287 - val_loss: 0.1519 - val_accuracy: 0.9539\n",
      "Epoch 3/15\n",
      "48000/48000 [==============================] - 5s 98us/step - loss: 0.1877 - accuracy: 0.9446 - val_loss: 0.1247 - val_accuracy: 0.9627\n",
      "Epoch 4/15\n",
      "48000/48000 [==============================] - 5s 96us/step - loss: 0.1587 - accuracy: 0.9533 - val_loss: 0.1072 - val_accuracy: 0.9678\n",
      "Epoch 5/15\n",
      "48000/48000 [==============================] - 5s 95us/step - loss: 0.1361 - accuracy: 0.9594 - val_loss: 0.1066 - val_accuracy: 0.9663\n",
      "Epoch 6/15\n",
      "48000/48000 [==============================] - 5s 97us/step - loss: 0.1249 - accuracy: 0.9628 - val_loss: 0.0960 - val_accuracy: 0.9713\n",
      "Epoch 7/15\n",
      "48000/48000 [==============================] - 5s 102us/step - loss: 0.1096 - accuracy: 0.9666 - val_loss: 0.0991 - val_accuracy: 0.9717\n",
      "Epoch 8/15\n",
      "48000/48000 [==============================] - 5s 94us/step - loss: 0.1007 - accuracy: 0.9692 - val_loss: 0.0910 - val_accuracy: 0.9710\n",
      "Epoch 9/15\n",
      "48000/48000 [==============================] - 5s 100us/step - loss: 0.0948 - accuracy: 0.9711 - val_loss: 0.0881 - val_accuracy: 0.9736\n",
      "Epoch 10/15\n",
      "48000/48000 [==============================] - 5s 99us/step - loss: 0.0887 - accuracy: 0.9726 - val_loss: 0.0926 - val_accuracy: 0.9737\n",
      "Epoch 11/15\n",
      "48000/48000 [==============================] - 5s 95us/step - loss: 0.0824 - accuracy: 0.9741 - val_loss: 0.0852 - val_accuracy: 0.9747\n",
      "Epoch 12/15\n",
      "48000/48000 [==============================] - 5s 95us/step - loss: 0.0760 - accuracy: 0.9772 - val_loss: 0.0864 - val_accuracy: 0.9745\n",
      "Epoch 13/15\n",
      "48000/48000 [==============================] - 5s 94us/step - loss: 0.0748 - accuracy: 0.9770 - val_loss: 0.0920 - val_accuracy: 0.9755\n",
      "Epoch 14/15\n",
      "48000/48000 [==============================] - 5s 95us/step - loss: 0.0715 - accuracy: 0.9779 - val_loss: 0.0844 - val_accuracy: 0.9752\n",
      "Epoch 15/15\n",
      "48000/48000 [==============================] - 5s 96us/step - loss: 0.0669 - accuracy: 0.9791 - val_loss: 0.0848 - val_accuracy: 0.9760\n",
      "10000/10000 [==============================] - 0s 22us/step\n",
      "Accuracy :  [0.08422024512139614, 0.9760000109672546]\n"
     ]
    }
   ],
   "source": [
    "Nin = 784\n",
    "Nh_l = [100,50]\n",
    "number_of_class= 10\n",
    "Nout = number_of_class\n",
    "\n",
    "(X_train, Y_train), (X_test, Y_test) = Data_func()\n",
    "model = DNN(Nin, Nh_l, Nout)\n",
    "history = model.fit(X_train, Y_train, epochs=15, batch_size=100, validation_split=0.2)\n",
    "performance_test = model.evaluate(X_test, Y_test, batch_size=100)\n",
    "print('Accuracy : ', performance_test)"
   ]
  },
  {
   "cell_type": "code",
   "execution_count": null,
   "metadata": {},
   "outputs": [],
   "source": []
  }
 ],
 "metadata": {
  "kernelspec": {
   "display_name": "Python 3",
   "language": "python",
   "name": "python3"
  },
  "language_info": {
   "codemirror_mode": {
    "name": "ipython",
    "version": 3
   },
   "file_extension": ".py",
   "mimetype": "text/x-python",
   "name": "python",
   "nbconvert_exporter": "python",
   "pygments_lexer": "ipython3",
   "version": "3.7.4"
  }
 },
 "nbformat": 4,
 "nbformat_minor": 2
}
