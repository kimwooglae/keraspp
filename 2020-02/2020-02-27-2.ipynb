{
 "cells": [
  {
   "cell_type": "code",
   "execution_count": 1,
   "metadata": {},
   "outputs": [
    {
     "name": "stderr",
     "output_type": "stream",
     "text": [
      "Using TensorFlow backend.\n"
     ]
    }
   ],
   "source": [
    "%matplotlib inline\n",
    "import keras\n",
    "from keras import layers, models\n",
    "from keras import backend\n",
    "from keras.utils import np_utils\n",
    "from keraspp.skeras import plot_acc, plot_loss\n",
    "import matplotlib.pyplot as plt"
   ]
  },
  {
   "cell_type": "code",
   "execution_count": 2,
   "metadata": {},
   "outputs": [],
   "source": [
    "class CNN(models.Sequential):\n",
    "    def __init__(self, input_shape, num_class):\n",
    "        super().__init__()\n",
    "        self.add(layers.Conv2D(32, kernel_size=(3, 3), activation='relu', input_shape=input_shape))\n",
    "        self.add(layers.Conv2D(64, kernel_size=(3, 3), activation='relu'))\n",
    "        self.add(layers.MaxPooling2D(pool_size=(2, 2)))\n",
    "        self.add(layers.Dropout(0.25))\n",
    "        self.add(layers.Flatten())\n",
    "        self.add(layers.Dense(128, activation='relu'))\n",
    "        self.add(layers.Dropout(0.5))\n",
    "        self.add(layers.Dense(num_class, activation='softmax'))\n",
    "        self.compile(loss=keras.losses.categorical_crossentropy, optimizer='rmsprop', metrics=['accuracy'])\n",
    "        #self.compile(loss=keras.losses.categorical_crossentropy, optimizer=keras.optimizers.Adadelta, metrics=['accuracy'])\n",
    "        self.summary()"
   ]
  },
  {
   "cell_type": "code",
   "execution_count": 3,
   "metadata": {},
   "outputs": [],
   "source": [
    "from keras import datasets\n",
    "class DATA():\n",
    "    def __init__(self):\n",
    "        num_classes = 10\n",
    "        (x_train, y_train), (x_test, y_test) = datasets.mnist.load_data()\n",
    "\n",
    "        print(x_train.shape)\n",
    "        print(x_train.shape[1:])\n",
    "        img_rows, img_cols = x_train.shape[1:]\n",
    "\n",
    "        if backend.image_data_format() == 'channels_first':\n",
    "            x_train = x_train.reshape(x_train.shape[0], 1, img_rows, img_rows)\n",
    "            x_test = x_test.reshape(x_test.shape[0], 1, img_rows, img_rows)\n",
    "            input_shape = (1, img_rows, img_cols)\n",
    "        else:\n",
    "            x_train = x_train.reshape(x_train.shape[0], img_rows, img_rows, 1)\n",
    "            x_test = x_test.reshape(x_test.shape[0], img_rows, img_rows, 1)\n",
    "            input_shape = (img_rows, img_cols, 1)\n",
    "\n",
    "        x_train = x_train.astype('float32')\n",
    "        x_test = x_test.astype('float32')\n",
    "        x_train = x_train / 255.0\n",
    "        x_test = x_test / 255.0\n",
    "\n",
    "\n",
    "        y_train = np_utils.to_categorical(y_train, num_classes)\n",
    "        y_test = np_utils.to_categorical(y_test, num_classes)\n",
    "\n",
    "        self.input_shape = input_shape\n",
    "        self.num_classes = num_classes\n",
    "        self.x_train, self.y_train = x_train, y_train\n",
    "        self.x_test, self.y_test = x_test, y_test"
   ]
  },
  {
   "cell_type": "code",
   "execution_count": 7,
   "metadata": {},
   "outputs": [
    {
     "name": "stdout",
     "output_type": "stream",
     "text": [
      "(60000, 28, 28)\n",
      "(28, 28)\n",
      "Model: \"cnn_2\"\n",
      "_________________________________________________________________\n",
      "Layer (type)                 Output Shape              Param #   \n",
      "=================================================================\n",
      "conv2d_3 (Conv2D)            (None, 26, 26, 32)        320       \n",
      "_________________________________________________________________\n",
      "conv2d_4 (Conv2D)            (None, 24, 24, 64)        18496     \n",
      "_________________________________________________________________\n",
      "max_pooling2d_2 (MaxPooling2 (None, 12, 12, 64)        0         \n",
      "_________________________________________________________________\n",
      "dropout_3 (Dropout)          (None, 12, 12, 64)        0         \n",
      "_________________________________________________________________\n",
      "flatten_2 (Flatten)          (None, 9216)              0         \n",
      "_________________________________________________________________\n",
      "dense_3 (Dense)              (None, 128)               1179776   \n",
      "_________________________________________________________________\n",
      "dropout_4 (Dropout)          (None, 128)               0         \n",
      "_________________________________________________________________\n",
      "dense_4 (Dense)              (None, 10)                1290      \n",
      "=================================================================\n",
      "Total params: 1,199,882\n",
      "Trainable params: 1,199,882\n",
      "Non-trainable params: 0\n",
      "_________________________________________________________________\n",
      "Train on 48000 samples, validate on 12000 samples\n",
      "Epoch 1/10\n",
      "48000/48000 [==============================] - 7s 155us/step - loss: 0.2719 - accuracy: 0.9176 - val_loss: 0.0621 - val_accuracy: 0.9809\n",
      "Epoch 2/10\n",
      "48000/48000 [==============================] - 7s 148us/step - loss: 0.0898 - accuracy: 0.9736 - val_loss: 0.0470 - val_accuracy: 0.9858\n",
      "Epoch 3/10\n",
      "48000/48000 [==============================] - 7s 154us/step - loss: 0.0699 - accuracy: 0.9791 - val_loss: 0.0427 - val_accuracy: 0.9877\n",
      "Epoch 4/10\n",
      "48000/48000 [==============================] - 7s 151us/step - loss: 0.0573 - accuracy: 0.9831 - val_loss: 0.0425 - val_accuracy: 0.9882\n",
      "Epoch 5/10\n",
      "48000/48000 [==============================] - 7s 150us/step - loss: 0.0480 - accuracy: 0.9856 - val_loss: 0.0399 - val_accuracy: 0.9888\n",
      "Epoch 6/10\n",
      "48000/48000 [==============================] - 7s 151us/step - loss: 0.0461 - accuracy: 0.9863 - val_loss: 0.0409 - val_accuracy: 0.9888\n",
      "Epoch 7/10\n",
      "48000/48000 [==============================] - 7s 154us/step - loss: 0.0418 - accuracy: 0.9874 - val_loss: 0.0385 - val_accuracy: 0.9887\n",
      "Epoch 8/10\n",
      "48000/48000 [==============================] - 7s 156us/step - loss: 0.0414 - accuracy: 0.9873 - val_loss: 0.0421 - val_accuracy: 0.9895\n",
      "Epoch 9/10\n",
      "48000/48000 [==============================] - 7s 153us/step - loss: 0.0424 - accuracy: 0.9881 - val_loss: 0.0425 - val_accuracy: 0.9897\n",
      "Epoch 10/10\n",
      "48000/48000 [==============================] - 7s 151us/step - loss: 0.0436 - accuracy: 0.9873 - val_loss: 0.0431 - val_accuracy: 0.9896\n",
      "10000/10000 [==============================] - 1s 129us/step\n",
      "Test loss: 0.034209986972551995\n",
      "Test accuracy: 0.989799976348877\n"
     ]
    }
   ],
   "source": [
    "epochs = 10\n",
    "batch_size = 128\n",
    "\n",
    "data = DATA()\n",
    "\n",
    "model = CNN(data.input_shape, data.num_classes)\n",
    "history = model.fit(data.x_train,data.y_train, batch_size=batch_size, epochs=epochs, validation_split=0.2)\n",
    "score = model.evaluate(data.x_test, data.y_test)\n",
    "print('Test loss:', score[0])\n",
    "print('Test accuracy:', score[1])"
   ]
  },
  {
   "cell_type": "code",
   "execution_count": 8,
   "metadata": {},
   "outputs": [
    {
     "data": {
      "image/png": "[encoded data removed]",
      "text/plain": [
       "<Figure size 432x288 with 1 Axes>"
      ]
     },
     "metadata": {
      "needs_background": "light"
     },
     "output_type": "display_data"
    }
   ],
   "source": [
    "plot_acc(history)"
   ]
  },
  {
   "cell_type": "code",
   "execution_count": 9,
   "metadata": {},
   "outputs": [
    {
     "data": {
      "image/png": "[encoded data removed]",
      "text/plain": [
       "<Figure size 432x288 with 1 Axes>"
      ]
     },
     "metadata": {
      "needs_background": "light"
     },
     "output_type": "display_data"
    }
   ],
   "source": [
    "plot_loss(history)"
   ]
  },
  {
   "cell_type": "code",
   "execution_count": 10,
   "metadata": {},
   "outputs": [
    {
     "name": "stdout",
     "output_type": "stream",
     "text": [
      "[name: \"/device:CPU:0\"\n",
      "device_type: \"CPU\"\n",
      "memory_limit: 268435456\n",
      "locality {\n",
      "}\n",
      "incarnation: 853084116390608829\n",
      ", name: \"/device:XLA_CPU:0\"\n",
      "device_type: \"XLA_CPU\"\n",
      "memory_limit: 17179869184\n",
      "locality {\n",
      "}\n",
      "incarnation: 13460822148918014511\n",
      "physical_device_desc: \"device: XLA_CPU device\"\n",
      ", name: \"/device:XLA_GPU:0\"\n",
      "device_type: \"XLA_GPU\"\n",
      "memory_limit: 17179869184\n",
      "locality {\n",
      "}\n",
      "incarnation: 8620042201024146577\n",
      "physical_device_desc: \"device: XLA_GPU device\"\n",
      ", name: \"/device:GPU:0\"\n",
      "device_type: \"GPU\"\n",
      "memory_limit: 3509321728\n",
      "locality {\n",
      "  bus_id: 1\n",
      "  links {\n",
      "  }\n",
      "}\n",
      "incarnation: 11575415339522934435\n",
      "physical_device_desc: \"device: 0, name: GeForce GTX 1050, pci bus id: 0000:01:00.0, compute capability: 6.1\"\n",
      "]\n"
     ]
    }
   ],
   "source": [
    "from tensorflow.python.client import device_lib\n",
    "print(device_lib.list_local_devices())"
   ]
  },
  {
   "cell_type": "code",
   "execution_count": null,
   "metadata": {},
   "outputs": [],
   "source": []
  }
 ],
 "metadata": {
  "kernelspec": {
   "display_name": "Python 3",
   "language": "python",
   "name": "python3"
  },
  "language_info": {
   "codemirror_mode": {
    "name": "ipython",
    "version": 3
   },
   "file_extension": ".py",
   "mimetype": "text/x-python",
   "name": "python",
   "nbconvert_exporter": "python",
   "pygments_lexer": "ipython3",
   "version": "3.7.6"
  }
 },
 "nbformat": 4,
 "nbformat_minor": 2
}
