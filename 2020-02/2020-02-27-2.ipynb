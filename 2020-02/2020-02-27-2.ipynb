{
 "cells": [
  {
   "cell_type": "code",
   "execution_count": 2,
   "metadata": {},
   "outputs": [],
   "source": [
    "%matplotlib inline\n",
    "import keras\n",
    "from keras import layers, models\n",
    "from keras import backend\n",
    "from keras.utils import np_utils\n",
    "from keraspp.skeras import plot_acc, plot_loss\n",
    "import matplotlib.pyplot as plt"
   ]
  },
  {
   "cell_type": "code",
   "execution_count": 9,
   "metadata": {},
   "outputs": [],
   "source": [
    "class CNN(models.Sequential):\n",
    "    def __init__(self, input_shape, num_class):\n",
    "        super().__init__()\n",
    "        self.add(layers.Conv2D(32, kernel_size=(3, 3), activation='relu', input_shape=input_shape))\n",
    "        self.add(layers.Conv2D(64, kernel_size=(3, 3), activation='relu'))\n",
    "        self.add(layers.MaxPooling2D(pool_size=(2, 2)))\n",
    "        self.add(layers.Dropout(0.25))\n",
    "        self.add(layers.Flatten())\n",
    "        self.add(layers.Dense(128, activation='relu'))\n",
    "        self.add(layers.Dropout(0.5))\n",
    "        self.add(layers.Dense(num_class, activation='softmax'))\n",
    "        self.compile(loss=keras.losses.categorical_crossentropy, optimizer='rmsprop', metrics=['accuracy'])\n",
    "        #self.compile(loss=keras.losses.categorical_crossentropy, optimizer=keras.optimizers.Adadelta, metrics=['accuracy'])\n",
    "        self.summary()"
   ]
  },
  {
   "cell_type": "code",
   "execution_count": 14,
   "metadata": {},
   "outputs": [],
   "source": [
    "from keras import datasets\n",
    "class DATA():\n",
    "    def __init__(self):\n",
    "        num_classes = 10\n",
    "        (x_train, y_train), (x_test, y_test) = datasets.mnist.load_data()\n",
    "\n",
    "        print(x_train.shape)\n",
    "        print(x_train.shape[1:])\n",
    "        img_rows, img_cols = x_train.shape[1:]\n",
    "\n",
    "        if backend.image_data_format() == 'channels_first':\n",
    "            x_train = x_train.reshape(x_train.shape[0], 1, img_rows, img_rows)\n",
    "            x_test = x_test.reshape(x_test.shape[0], 1, img_rows, img_rows)\n",
    "            input_shape = (1, img_rows, img_cols)\n",
    "        else:\n",
    "            x_train = x_train.reshape(x_train.shape[0], img_rows, img_rows, 1)\n",
    "            x_test = x_test.reshape(x_test.shape[0], img_rows, img_rows, 1)\n",
    "            input_shape = (img_rows, img_cols, 1)\n",
    "\n",
    "        x_train = x_train.astype('float32')\n",
    "        x_test = x_test.astype('float32')\n",
    "        x_train = x_train / 255.0\n",
    "        x_test = x_test / 255.0\n",
    "\n",
    "\n",
    "        y_train = np_utils.to_categorical(y_train, num_classes)\n",
    "        y_test = np_utils.to_categorical(y_test, num_classes)\n",
    "\n",
    "        self.input_shape = input_shape\n",
    "        self.num_classes = num_classes\n",
    "        self.x_train, self.y_train = x_train, y_train\n",
    "        self.x_test, self.y_test = x_test, y_test"
   ]
  },
  {
   "cell_type": "code",
   "execution_count": 15,
   "metadata": {},
   "outputs": [
    {
     "name": "stdout",
     "output_type": "stream",
     "text": [
      "(60000, 28, 28)\n",
      "(28, 28)\n",
      "_________________________________________________________________\n",
      "Layer (type)                 Output Shape              Param #   \n",
      "=================================================================\n",
      "conv2d_5 (Conv2D)            (None, 26, 26, 32)        320       \n",
      "_________________________________________________________________\n",
      "conv2d_6 (Conv2D)            (None, 24, 24, 64)        18496     \n",
      "_________________________________________________________________\n",
      "max_pooling2d_3 (MaxPooling2 (None, 12, 12, 64)        0         \n",
      "_________________________________________________________________\n",
      "dropout_5 (Dropout)          (None, 12, 12, 64)        0         \n",
      "_________________________________________________________________\n",
      "flatten_3 (Flatten)          (None, 9216)              0         \n",
      "_________________________________________________________________\n",
      "dense_5 (Dense)              (None, 128)               1179776   \n",
      "_________________________________________________________________\n",
      "dropout_6 (Dropout)          (None, 128)               0         \n",
      "_________________________________________________________________\n",
      "dense_6 (Dense)              (None, 10)                1290      \n",
      "=================================================================\n",
      "Total params: 1,199,882\n",
      "Trainable params: 1,199,882\n",
      "Non-trainable params: 0\n",
      "_________________________________________________________________\n",
      "Train on 48000 samples, validate on 12000 samples\n",
      "Epoch 1/10\n",
      "48000/48000 [==============================] - 124s 3ms/step - loss: 0.2511 - acc: 0.9221 - val_loss: 0.0682 - val_acc: 0.9786\n",
      "Epoch 2/10\n",
      "48000/48000 [==============================] - 124s 3ms/step - loss: 0.0893 - acc: 0.9741 - val_loss: 0.0539 - val_acc: 0.9837\n",
      "Epoch 3/10\n",
      "48000/48000 [==============================] - 120s 3ms/step - loss: 0.0671 - acc: 0.9800 - val_loss: 0.0438 - val_acc: 0.9874\n",
      "Epoch 4/10\n",
      "48000/48000 [==============================] - 120s 3ms/step - loss: 0.0540 - acc: 0.9844 - val_loss: 0.0439 - val_acc: 0.9868\n",
      "Epoch 5/10\n",
      "48000/48000 [==============================] - 124s 3ms/step - loss: 0.0507 - acc: 0.9852 - val_loss: 0.0408 - val_acc: 0.9883\n",
      "Epoch 6/10\n",
      "48000/48000 [==============================] - 1870s 39ms/step - loss: 0.0450 - acc: 0.9865 - val_loss: 0.0452 - val_acc: 0.9882\n",
      "Epoch 7/10\n",
      "48000/48000 [==============================] - 158s 3ms/step - loss: 0.0407 - acc: 0.9881 - val_loss: 0.0428 - val_acc: 0.9894\n",
      "Epoch 8/10\n",
      "48000/48000 [==============================] - 130s 3ms/step - loss: 0.0404 - acc: 0.9878 - val_loss: 0.0482 - val_acc: 0.9869\n",
      "Epoch 9/10\n",
      "48000/48000 [==============================] - 126s 3ms/step - loss: 0.0395 - acc: 0.9882 - val_loss: 0.0439 - val_acc: 0.9893\n",
      "Epoch 10/10\n",
      "48000/48000 [==============================] - 126s 3ms/step - loss: 0.0387 - acc: 0.9885 - val_loss: 0.0430 - val_acc: 0.9895\n",
      "10000/10000 [==============================] - 7s 679us/step\n",
      "Test loss: 0.0360544834469\n",
      "Test accuracy: 0.9896\n"
     ]
    }
   ],
   "source": [
    "epochs = 10\n",
    "batch_size = 128\n",
    "\n",
    "data = DATA()\n",
    "\n",
    "model = CNN(data.input_shape, data.num_classes)\n",
    "history = model.fit(data.x_train,data.y_train, batch_size=batch_size, epochs=epochs, validation_split=0.2)\n",
    "score = model.evaluate(data.x_test, data.y_test)\n",
    "print('Test loss:', score[0])\n",
    "print('Test accuracy:', score[1])"
   ]
  },
  {
   "cell_type": "code",
   "execution_count": 16,
   "metadata": {},
   "outputs": [
    {
     "data": {
      "image/png": "[encoded data removed]",
      "text/plain": [
       "<matplotlib.figure.Figure at 0x125aaa2e8>"
      ]
     },
     "metadata": {},
     "output_type": "display_data"
    }
   ],
   "source": [
    "plot_acc(history)"
   ]
  },
  {
   "cell_type": "code",
   "execution_count": 17,
   "metadata": {},
   "outputs": [
    {
     "data": {
      "image/png": "[encoded data removed]",
      "text/plain": [
       "<matplotlib.figure.Figure at 0x125aaa9e8>"
      ]
     },
     "metadata": {},
     "output_type": "display_data"
    }
   ],
   "source": [
    "plot_loss(history)"
   ]
  },
  {
   "cell_type": "code",
   "execution_count": null,
   "metadata": {},
   "outputs": [],
   "source": []
  },
  {
   "cell_type": "code",
   "execution_count": null,
   "metadata": {},
   "outputs": [],
   "source": []
  }
 ],
 "metadata": {
  "kernelspec": {
   "display_name": "Python 3",
   "language": "python",
   "name": "python3"
  },
  "language_info": {
   "codemirror_mode": {
    "name": "ipython",
    "version": 3
   },
   "file_extension": ".py",
   "mimetype": "text/x-python",
   "name": "python",
   "nbconvert_exporter": "python",
   "pygments_lexer": "ipython3",
   "version": "3.5.4"
  }
 },
 "nbformat": 4,
 "nbformat_minor": 2
}
