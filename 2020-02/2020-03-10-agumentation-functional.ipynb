{
 "cells": [
  {
   "cell_type": "code",
   "execution_count": 1,
   "metadata": {},
   "outputs": [
    {
     "name": "stderr",
     "output_type": "stream",
     "text": [
      "Using TensorFlow backend.\n"
     ]
    }
   ],
   "source": [
    "from sklearn import model_selection\n",
    "from keras import datasets\n",
    "import keras\n",
    "assert keras.backend.image_data_format() == 'channels_last'\n",
    "from keraspp import aigen_functional"
   ]
  },
  {
   "cell_type": "code",
   "execution_count": 2,
   "metadata": {},
   "outputs": [],
   "source": [
    "from keras.preprocessing.image import ImageDataGenerator\n",
    "from keraspp import aicnn"
   ]
  },
  {
   "cell_type": "code",
   "execution_count": 3,
   "metadata": {},
   "outputs": [],
   "source": [
    "class Machine(aigen_functional.Machine_Generator):\n",
    "    def __init__(self):\n",
    "        (x_train, y_train), (x_test, y_test) = datasets.cifar10.load_data()\n",
    "        _, X, _, y = model_selection.train_test_split(x_train, y_train, test_size=0.02)\n",
    "        X = X.astype(float)\n",
    "        gen_param_dict = {'rotation_range':10}\n",
    "        super().__init__(X, y, nb_classes=10, gen_param_dict=gen_param_dict)\n"
   ]
  },
  {
   "cell_type": "code",
   "execution_count": 4,
   "metadata": {},
   "outputs": [],
   "source": [
    "def main():\n",
    "    m = Machine()\n",
    "    m.run()"
   ]
  },
  {
   "cell_type": "code",
   "execution_count": 5,
   "metadata": {
    "scrolled": false
   },
   "outputs": [
    {
     "name": "stdout",
     "output_type": "stream",
     "text": [
      "(800, 32, 32, 3) (800, 1)\n",
      "X_train shape: (800, 32, 32, 3)\n",
      "800 train samples\n",
      "200 test samples\n",
      "data.input_shape (32, 32, 3)\n",
      "(800, 32, 32, 3)\n",
      "Epoch 1/100\n",
      "10/10 [==============================] - 2s 189ms/step - loss: 2.3540 - accuracy: 0.1047 - val_loss: 2.2876 - val_accuracy: 0.1650\n",
      "Epoch 2/100\n",
      "10/10 [==============================] - 0s 44ms/step - loss: 2.2695 - accuracy: 0.1470 - val_loss: 2.2543 - val_accuracy: 0.1450\n",
      "Epoch 3/100\n",
      "10/10 [==============================] - 1s 51ms/step - loss: 2.2265 - accuracy: 0.1804 - val_loss: 2.2596 - val_accuracy: 0.1750\n",
      "Epoch 4/100\n",
      "10/10 [==============================] - 0s 40ms/step - loss: 2.2089 - accuracy: 0.1850 - val_loss: 2.1799 - val_accuracy: 0.2200\n",
      "Epoch 5/100\n",
      "10/10 [==============================] - 0s 45ms/step - loss: 2.1382 - accuracy: 0.2196 - val_loss: 2.2059 - val_accuracy: 0.2600\n",
      "Epoch 6/100\n",
      "10/10 [==============================] - 0s 44ms/step - loss: 2.1138 - accuracy: 0.2534 - val_loss: 2.0710 - val_accuracy: 0.3050\n",
      "Epoch 7/100\n",
      "10/10 [==============================] - 0s 41ms/step - loss: 2.1303 - accuracy: 0.2472 - val_loss: 2.3137 - val_accuracy: 0.1750\n",
      "Epoch 8/100\n",
      "10/10 [==============================] - 0s 45ms/step - loss: 2.0817 - accuracy: 0.2627 - val_loss: 2.1490 - val_accuracy: 0.2000\n",
      "Epoch 9/100\n",
      "10/10 [==============================] - 0s 40ms/step - loss: 1.9087 - accuracy: 0.3410 - val_loss: 2.3660 - val_accuracy: 0.1950\n",
      "Epoch 10/100\n",
      "10/10 [==============================] - 0s 45ms/step - loss: 1.9655 - accuracy: 0.2889 - val_loss: 1.9381 - val_accuracy: 0.3350\n",
      "Epoch 11/100\n",
      "10/10 [==============================] - 1s 55ms/step - loss: 1.9184 - accuracy: 0.3556 - val_loss: 1.9731 - val_accuracy: 0.3000\n",
      "Epoch 12/100\n",
      "10/10 [==============================] - 1s 60ms/step - loss: 1.7802 - accuracy: 0.3851 - val_loss: 2.0459 - val_accuracy: 0.2400\n",
      "Epoch 13/100\n",
      "10/10 [==============================] - 0s 44ms/step - loss: 1.8009 - accuracy: 0.3750 - val_loss: 2.0995 - val_accuracy: 0.2850\n",
      "Epoch 14/100\n",
      "10/10 [==============================] - 0s 40ms/step - loss: 1.7324 - accuracy: 0.3897 - val_loss: 1.9303 - val_accuracy: 0.2950\n",
      "Epoch 15/100\n",
      "10/10 [==============================] - 0s 45ms/step - loss: 1.5539 - accuracy: 0.4721 - val_loss: 1.8594 - val_accuracy: 0.3450\n",
      "Epoch 16/100\n",
      "10/10 [==============================] - 0s 41ms/step - loss: 1.6172 - accuracy: 0.4118 - val_loss: 1.7969 - val_accuracy: 0.3900\n",
      "Epoch 17/100\n",
      "10/10 [==============================] - 0s 44ms/step - loss: 1.4563 - accuracy: 0.4983 - val_loss: 1.7992 - val_accuracy: 0.3700\n",
      "Epoch 18/100\n",
      "10/10 [==============================] - 0s 40ms/step - loss: 1.4444 - accuracy: 0.4871 - val_loss: 1.9068 - val_accuracy: 0.3300\n",
      "Epoch 19/100\n",
      "10/10 [==============================] - 0s 45ms/step - loss: 1.3586 - accuracy: 0.5397 - val_loss: 1.7475 - val_accuracy: 0.3900\n",
      "Epoch 20/100\n",
      "10/10 [==============================] - 0s 41ms/step - loss: 1.2357 - accuracy: 0.5689 - val_loss: 1.7223 - val_accuracy: 0.4100\n",
      "Epoch 21/100\n",
      "10/10 [==============================] - 1s 55ms/step - loss: 1.3164 - accuracy: 0.5667 - val_loss: 1.8191 - val_accuracy: 0.3900\n",
      "Epoch 22/100\n",
      "10/10 [==============================] - 1s 53ms/step - loss: 1.0291 - accuracy: 0.6419 - val_loss: 1.7793 - val_accuracy: 0.4400\n",
      "Epoch 23/100\n",
      "10/10 [==============================] - 0s 41ms/step - loss: 1.0877 - accuracy: 0.6360 - val_loss: 1.8472 - val_accuracy: 0.3750\n",
      "Epoch 24/100\n",
      "10/10 [==============================] - 0s 44ms/step - loss: 1.0761 - accuracy: 0.6486 - val_loss: 1.8484 - val_accuracy: 0.4050\n",
      "Epoch 25/100\n",
      "10/10 [==============================] - 0s 40ms/step - loss: 0.9421 - accuracy: 0.6774 - val_loss: 1.8847 - val_accuracy: 0.3800\n",
      "Epoch 26/100\n",
      "10/10 [==============================] - 0s 45ms/step - loss: 0.9211 - accuracy: 0.6799 - val_loss: 1.8864 - val_accuracy: 0.4350\n",
      "Epoch 27/100\n",
      "10/10 [==============================] - 0s 44ms/step - loss: 0.8796 - accuracy: 0.6943 - val_loss: 2.0855 - val_accuracy: 0.3300\n",
      "Epoch 28/100\n",
      "10/10 [==============================] - 0s 40ms/step - loss: 0.7875 - accuracy: 0.7417 - val_loss: 1.9823 - val_accuracy: 0.3850\n",
      "Epoch 29/100\n",
      "10/10 [==============================] - 0s 42ms/step - loss: 0.7214 - accuracy: 0.7619 - val_loss: 1.9009 - val_accuracy: 0.4250\n",
      "Epoch 30/100\n",
      "10/10 [==============================] - 0s 44ms/step - loss: 0.6457 - accuracy: 0.7863 - val_loss: 1.9688 - val_accuracy: 0.3800\n",
      "Epoch 31/100\n",
      "10/10 [==============================] - 0s 45ms/step - loss: 0.6451 - accuracy: 0.7922 - val_loss: 2.1082 - val_accuracy: 0.3650\n",
      "Epoch 32/100\n",
      "10/10 [==============================] - 0s 40ms/step - loss: 0.5562 - accuracy: 0.8125 - val_loss: 2.0522 - val_accuracy: 0.3750\n",
      "Epoch 33/100\n",
      "10/10 [==============================] - 0s 42ms/step - loss: 0.4503 - accuracy: 0.8428 - val_loss: 2.1991 - val_accuracy: 0.4000\n",
      "Epoch 34/100\n",
      "10/10 [==============================] - 0s 44ms/step - loss: 0.5500 - accuracy: 0.8133 - val_loss: 2.1910 - val_accuracy: 0.3550\n",
      "Epoch 35/100\n",
      "10/10 [==============================] - 0s 44ms/step - loss: 0.4579 - accuracy: 0.8446 - val_loss: 2.2023 - val_accuracy: 0.4250\n",
      "Epoch 36/100\n",
      "10/10 [==============================] - 0s 45ms/step - loss: 0.3802 - accuracy: 0.8775 - val_loss: 2.2593 - val_accuracy: 0.3800\n",
      "Epoch 37/100\n",
      "10/10 [==============================] - 0s 40ms/step - loss: 0.4355 - accuracy: 0.8695 - val_loss: 2.2418 - val_accuracy: 0.3950\n",
      "Epoch 38/100\n",
      "10/10 [==============================] - 0s 45ms/step - loss: 0.3926 - accuracy: 0.8682 - val_loss: 2.2066 - val_accuracy: 0.4050\n",
      "Epoch 39/100\n",
      "10/10 [==============================] - 0s 40ms/step - loss: 0.2962 - accuracy: 0.9182 - val_loss: 2.3152 - val_accuracy: 0.4150\n",
      "Epoch 40/100\n",
      "10/10 [==============================] - 0s 45ms/step - loss: 0.3331 - accuracy: 0.8877 - val_loss: 2.3288 - val_accuracy: 0.4050\n",
      "Epoch 41/100\n",
      "10/10 [==============================] - 0s 40ms/step - loss: 0.2776 - accuracy: 0.9182 - val_loss: 2.4249 - val_accuracy: 0.3950\n",
      "Epoch 42/100\n",
      "10/10 [==============================] - 0s 45ms/step - loss: 0.2733 - accuracy: 0.9130 - val_loss: 2.3694 - val_accuracy: 0.3900\n",
      "Epoch 43/100\n",
      "10/10 [==============================] - 0s 44ms/step - loss: 0.2187 - accuracy: 0.9383 - val_loss: 2.5967 - val_accuracy: 0.3550\n",
      "Epoch 44/100\n",
      "10/10 [==============================] - 0s 44ms/step - loss: 0.2083 - accuracy: 0.9350 - val_loss: 2.5582 - val_accuracy: 0.3950\n",
      "Epoch 45/100\n",
      "10/10 [==============================] - 1s 62ms/step - loss: 0.2807 - accuracy: 0.9173 - val_loss: 2.5005 - val_accuracy: 0.3700\n",
      "Epoch 46/100\n",
      "10/10 [==============================] - 1s 50ms/step - loss: 0.2288 - accuracy: 0.9357 - val_loss: 2.5610 - val_accuracy: 0.3900\n",
      "Epoch 47/100\n",
      "10/10 [==============================] - 0s 45ms/step - loss: 0.1989 - accuracy: 0.9375 - val_loss: 2.7376 - val_accuracy: 0.3800\n",
      "Epoch 48/100\n",
      "10/10 [==============================] - 1s 55ms/step - loss: 0.2127 - accuracy: 0.9291 - val_loss: 2.8459 - val_accuracy: 0.3600\n",
      "Epoch 49/100\n",
      "10/10 [==============================] - 1s 51ms/step - loss: 0.1482 - accuracy: 0.9596 - val_loss: 2.6261 - val_accuracy: 0.3850\n",
      "Epoch 50/100\n",
      "10/10 [==============================] - 1s 54ms/step - loss: 0.1754 - accuracy: 0.9409 - val_loss: 2.7409 - val_accuracy: 0.4050\n",
      "Epoch 51/100\n",
      "10/10 [==============================] - 0s 41ms/step - loss: 0.1627 - accuracy: 0.9421 - val_loss: 2.9199 - val_accuracy: 0.3650\n",
      "Epoch 52/100\n",
      "10/10 [==============================] - 0s 45ms/step - loss: 0.1515 - accuracy: 0.9519 - val_loss: 2.9304 - val_accuracy: 0.3700\n",
      "Epoch 53/100\n",
      "10/10 [==============================] - 0s 40ms/step - loss: 0.1604 - accuracy: 0.9531 - val_loss: 2.8093 - val_accuracy: 0.3750\n",
      "Epoch 54/100\n",
      "10/10 [==============================] - 0s 45ms/step - loss: 0.1395 - accuracy: 0.9552 - val_loss: 2.8258 - val_accuracy: 0.3750\n",
      "Epoch 55/100\n",
      "10/10 [==============================] - 0s 44ms/step - loss: 0.1441 - accuracy: 0.9645 - val_loss: 3.0328 - val_accuracy: 0.3650\n",
      "Epoch 56/100\n",
      "10/10 [==============================] - 0s 42ms/step - loss: 0.1266 - accuracy: 0.9586 - val_loss: 2.7239 - val_accuracy: 0.4150\n",
      "Epoch 57/100\n"
     ]
    },
    {
     "name": "stdout",
     "output_type": "stream",
     "text": [
      "10/10 [==============================] - 0s 44ms/step - loss: 0.1383 - accuracy: 0.9654 - val_loss: 2.9919 - val_accuracy: 0.3650\n",
      "Epoch 58/100\n",
      "10/10 [==============================] - 0s 40ms/step - loss: 0.1280 - accuracy: 0.9706 - val_loss: 2.9261 - val_accuracy: 0.3750\n",
      "Epoch 59/100\n",
      "10/10 [==============================] - 0s 45ms/step - loss: 0.1173 - accuracy: 0.9671 - val_loss: 2.9871 - val_accuracy: 0.3650\n",
      "Epoch 60/100\n",
      "10/10 [==============================] - 0s 43ms/step - loss: 0.0984 - accuracy: 0.9713 - val_loss: 2.9846 - val_accuracy: 0.3950\n",
      "Epoch 61/100\n",
      "10/10 [==============================] - 0s 42ms/step - loss: 0.0914 - accuracy: 0.9789 - val_loss: 3.1322 - val_accuracy: 0.4200\n",
      "Epoch 62/100\n",
      "10/10 [==============================] - 0s 43ms/step - loss: 0.0943 - accuracy: 0.9721 - val_loss: 3.0798 - val_accuracy: 0.4000\n",
      "Epoch 63/100\n",
      "10/10 [==============================] - 0s 42ms/step - loss: 0.0927 - accuracy: 0.9706 - val_loss: 3.0663 - val_accuracy: 0.4100\n",
      "Epoch 64/100\n",
      "10/10 [==============================] - 0s 44ms/step - loss: 0.1004 - accuracy: 0.9730 - val_loss: 2.9635 - val_accuracy: 0.3750\n",
      "Epoch 65/100\n",
      "10/10 [==============================] - 0s 40ms/step - loss: 0.1847 - accuracy: 0.9357 - val_loss: 2.9648 - val_accuracy: 0.4300\n",
      "Epoch 66/100\n",
      "10/10 [==============================] - 0s 45ms/step - loss: 0.0826 - accuracy: 0.9780 - val_loss: 2.9261 - val_accuracy: 0.4050\n",
      "Epoch 67/100\n",
      "10/10 [==============================] - 0s 44ms/step - loss: 0.0790 - accuracy: 0.9797 - val_loss: 3.1970 - val_accuracy: 0.3600\n",
      "Epoch 68/100\n",
      "10/10 [==============================] - 1s 62ms/step - loss: 0.0825 - accuracy: 0.9807 - val_loss: 3.1954 - val_accuracy: 0.3900\n",
      "Epoch 69/100\n",
      "10/10 [==============================] - 0s 41ms/step - loss: 0.0731 - accuracy: 0.9835 - val_loss: 3.4551 - val_accuracy: 0.3350\n",
      "Epoch 70/100\n",
      "10/10 [==============================] - 0s 44ms/step - loss: 0.0891 - accuracy: 0.9764 - val_loss: 3.3023 - val_accuracy: 0.3850\n",
      "Epoch 71/100\n",
      "10/10 [==============================] - 0s 44ms/step - loss: 0.0707 - accuracy: 0.9780 - val_loss: 3.2823 - val_accuracy: 0.4300\n",
      "Epoch 72/100\n",
      "10/10 [==============================] - 0s 40ms/step - loss: 0.0674 - accuracy: 0.9844 - val_loss: 3.4747 - val_accuracy: 0.3350\n",
      "Epoch 73/100\n",
      "10/10 [==============================] - 0s 45ms/step - loss: 0.0683 - accuracy: 0.9848 - val_loss: 3.2209 - val_accuracy: 0.3850\n",
      "Epoch 74/100\n",
      "10/10 [==============================] - 0s 40ms/step - loss: 0.0900 - accuracy: 0.9688 - val_loss: 3.5170 - val_accuracy: 0.3500\n",
      "Epoch 75/100\n",
      "10/10 [==============================] - 0s 45ms/step - loss: 0.0703 - accuracy: 0.9789 - val_loss: 3.2381 - val_accuracy: 0.4100\n",
      "Epoch 76/100\n",
      "10/10 [==============================] - 0s 44ms/step - loss: 0.0668 - accuracy: 0.9755 - val_loss: 3.2477 - val_accuracy: 0.4350\n",
      "Epoch 77/100\n",
      "10/10 [==============================] - 0s 41ms/step - loss: 0.0838 - accuracy: 0.9761 - val_loss: 3.2925 - val_accuracy: 0.4150\n",
      "Epoch 78/100\n",
      "10/10 [==============================] - 0s 45ms/step - loss: 0.0595 - accuracy: 0.9840 - val_loss: 3.4487 - val_accuracy: 0.4000\n",
      "Epoch 79/100\n",
      "10/10 [==============================] - 0s 40ms/step - loss: 0.0752 - accuracy: 0.9798 - val_loss: 3.4068 - val_accuracy: 0.3850\n",
      "Epoch 80/100\n",
      "10/10 [==============================] - 0s 43ms/step - loss: 0.0656 - accuracy: 0.9789 - val_loss: 3.5350 - val_accuracy: 0.3950\n",
      "Epoch 81/100\n",
      "10/10 [==============================] - 0s 43ms/step - loss: 0.0638 - accuracy: 0.9747 - val_loss: 3.5285 - val_accuracy: 0.3800\n",
      "Epoch 82/100\n",
      "10/10 [==============================] - 0s 45ms/step - loss: 0.0535 - accuracy: 0.9840 - val_loss: 3.5342 - val_accuracy: 0.3650\n",
      "Epoch 83/100\n",
      "10/10 [==============================] - 0s 44ms/step - loss: 0.0620 - accuracy: 0.9814 - val_loss: 3.6607 - val_accuracy: 0.3900\n",
      "Epoch 84/100\n",
      "10/10 [==============================] - 0s 41ms/step - loss: 0.0559 - accuracy: 0.9825 - val_loss: 3.9356 - val_accuracy: 0.3250\n",
      "Epoch 85/100\n",
      "10/10 [==============================] - 0s 45ms/step - loss: 0.0562 - accuracy: 0.9806 - val_loss: 3.4782 - val_accuracy: 0.4100\n",
      "Epoch 86/100\n",
      "10/10 [==============================] - 0s 40ms/step - loss: 0.0765 - accuracy: 0.9770 - val_loss: 3.4224 - val_accuracy: 0.4150\n",
      "Epoch 87/100\n",
      "10/10 [==============================] - 0s 45ms/step - loss: 0.0458 - accuracy: 0.9856 - val_loss: 3.5684 - val_accuracy: 0.4000\n",
      "Epoch 88/100\n",
      "10/10 [==============================] - 0s 40ms/step - loss: 0.0431 - accuracy: 0.9881 - val_loss: 3.7478 - val_accuracy: 0.3950\n",
      "Epoch 89/100\n",
      "10/10 [==============================] - 0s 45ms/step - loss: 0.0503 - accuracy: 0.9831 - val_loss: 3.4983 - val_accuracy: 0.4150\n",
      "Epoch 90/100\n",
      "10/10 [==============================] - 0s 44ms/step - loss: 0.0511 - accuracy: 0.9882 - val_loss: 3.4877 - val_accuracy: 0.4200\n",
      "Epoch 91/100\n",
      "10/10 [==============================] - 0s 41ms/step - loss: 0.0344 - accuracy: 0.9899 - val_loss: 3.8068 - val_accuracy: 0.4050\n",
      "Epoch 92/100\n",
      "10/10 [==============================] - 0s 42ms/step - loss: 0.0454 - accuracy: 0.9871 - val_loss: 3.6290 - val_accuracy: 0.4350\n",
      "Epoch 93/100\n",
      "10/10 [==============================] - 0s 43ms/step - loss: 0.0561 - accuracy: 0.9814 - val_loss: 3.6141 - val_accuracy: 0.4250\n",
      "Epoch 94/100\n",
      "10/10 [==============================] - 0s 45ms/step - loss: 0.0431 - accuracy: 0.9831 - val_loss: 3.6498 - val_accuracy: 0.4200\n",
      "Epoch 95/100\n",
      "10/10 [==============================] - 0s 43ms/step - loss: 0.0358 - accuracy: 0.9916 - val_loss: 3.8724 - val_accuracy: 0.3900\n",
      "Epoch 96/100\n",
      "10/10 [==============================] - 0s 42ms/step - loss: 0.0345 - accuracy: 0.9890 - val_loss: 3.7982 - val_accuracy: 0.4050\n",
      "Epoch 97/100\n",
      "10/10 [==============================] - 0s 43ms/step - loss: 0.0526 - accuracy: 0.9856 - val_loss: 3.7305 - val_accuracy: 0.4000\n",
      "Epoch 98/100\n",
      "10/10 [==============================] - 0s 41ms/step - loss: 0.0435 - accuracy: 0.9853 - val_loss: 3.7961 - val_accuracy: 0.3700\n",
      "Epoch 99/100\n",
      "10/10 [==============================] - 0s 45ms/step - loss: 0.0388 - accuracy: 0.9873 - val_loss: 3.6695 - val_accuracy: 0.4000\n",
      "Epoch 100/100\n",
      "10/10 [==============================] - 0s 41ms/step - loss: 0.0475 - accuracy: 0.9881 - val_loss: 3.7844 - val_accuracy: 0.3750\n",
      "Confusion matrix\n",
      "[[ 5  2  2  3  0  0  0  0  3  0]\n",
      " [ 1 10  0  0  0  0  0  0  0  6]\n",
      " [ 1  0  4  4  1  1  2  2  0  0]\n",
      " [ 2  1  0  6  0  7  0  1  1  0]\n",
      " [ 1  1  3  7  1  1  3  5  1  1]\n",
      " [ 0  0  4  6  2  8  0  1  1  0]\n",
      " [ 0  0  2  7  1  2  8  2  2  1]\n",
      " [ 2  1  0  6  1  1  0 11  1  1]\n",
      " [ 1  3  0  2  0  0  0  1 13  0]\n",
      " [ 0  8  0  1  0  0  0  0  2  9]]\n",
      "Test score: 3.784368076324463\n",
      "Test accuracy: 0.375\n",
      "Output results are saved in output_a2320b34-c0d3-462a-863b-109176ae68e3\n"
     ]
    },
    {
     "data": {
      "image/png": "[encoded data removed]",
      "text/plain": [
       "<Figure size 432x288 with 1 Axes>"
      ]
     },
     "metadata": {
      "needs_background": "light"
     },
     "output_type": "display_data"
    },
    {
     "data": {
      "image/png": "[encoded data removed]",
      "text/plain": [
       "<Figure size 432x288 with 1 Axes>"
      ]
     },
     "metadata": {
      "needs_background": "light"
     },
     "output_type": "display_data"
    }
   ],
   "source": [
    "main()"
   ]
  },
  {
   "cell_type": "code",
   "execution_count": 6,
   "metadata": {},
   "outputs": [
    {
     "name": "stdout",
     "output_type": "stream",
     "text": [
      "2.1.0\n",
      "2.3.1\n"
     ]
    }
   ],
   "source": [
    "import tensorflow as tf\n",
    "print(tf.__version__)\n",
    "print(keras.__version__)\n"
   ]
  },
  {
   "cell_type": "code",
   "execution_count": 7,
   "metadata": {},
   "outputs": [
    {
     "name": "stdout",
     "output_type": "stream",
     "text": [
      "[name: \"/device:CPU:0\"\n",
      "device_type: \"CPU\"\n",
      "memory_limit: 268435456\n",
      "locality {\n",
      "}\n",
      "incarnation: 13389908605723162431\n",
      ", name: \"/device:XLA_CPU:0\"\n",
      "device_type: \"XLA_CPU\"\n",
      "memory_limit: 17179869184\n",
      "locality {\n",
      "}\n",
      "incarnation: 4689924568311144618\n",
      "physical_device_desc: \"device: XLA_CPU device\"\n",
      ", name: \"/device:XLA_GPU:0\"\n",
      "device_type: \"XLA_GPU\"\n",
      "memory_limit: 17179869184\n",
      "locality {\n",
      "}\n",
      "incarnation: 4138390723377132764\n",
      "physical_device_desc: \"device: XLA_GPU device\"\n",
      ", name: \"/device:GPU:0\"\n",
      "device_type: \"GPU\"\n",
      "memory_limit: 3599171584\n",
      "locality {\n",
      "  bus_id: 1\n",
      "  links {\n",
      "  }\n",
      "}\n",
      "incarnation: 11686484655991735698\n",
      "physical_device_desc: \"device: 0, name: GeForce GTX 1050, pci bus id: 0000:01:00.0, compute capability: 6.1\"\n",
      "]\n"
     ]
    }
   ],
   "source": [
    "from tensorflow.python.client import device_lib\n",
    "print(device_lib.list_local_devices())"
   ]
  },
  {
   "cell_type": "code",
   "execution_count": null,
   "metadata": {},
   "outputs": [],
   "source": []
  }
 ],
 "metadata": {
  "kernelspec": {
   "display_name": "Python 3",
   "language": "python",
   "name": "python3"
  },
  "language_info": {
   "codemirror_mode": {
    "name": "ipython",
    "version": 3
   },
   "file_extension": ".py",
   "mimetype": "text/x-python",
   "name": "python",
   "nbconvert_exporter": "python",
   "pygments_lexer": "ipython3",
   "version": "3.7.6"
  }
 },
 "nbformat": 4,
 "nbformat_minor": 4
}
