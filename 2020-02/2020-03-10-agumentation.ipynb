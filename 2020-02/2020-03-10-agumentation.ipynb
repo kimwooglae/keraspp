{
 "cells": [
  {
   "cell_type": "code",
   "execution_count": 1,
   "metadata": {},
   "outputs": [
    {
     "name": "stderr",
     "output_type": "stream",
     "text": [
      "Using TensorFlow backend.\n"
     ]
    }
   ],
   "source": [
    "from sklearn import model_selection\n",
    "from keras import datasets\n",
    "import keras\n",
    "assert keras.backend.image_data_format() == 'channels_last'\n",
    "#from keraspp import aigen"
   ]
  },
  {
   "cell_type": "code",
   "execution_count": 2,
   "metadata": {},
   "outputs": [],
   "source": [
    "from keras.preprocessing.image import ImageDataGenerator\n",
    "from keraspp import aicnn"
   ]
  },
  {
   "cell_type": "code",
   "execution_count": 3,
   "metadata": {},
   "outputs": [],
   "source": [
    "class Machine_Generator():\n",
    "    def __init__(self, X, y, nb_classes=2, steps_per_epoch=10, fig=True, gen_param_dict=None):\n",
    "        self.machine = aicnn.Machine(X, y, nb_classes=nb_classes, fig=fig)\n",
    "        self.set_generator(steps_per_epoch=steps_per_epoch, gen_param_dict=gen_param_dict)\n",
    "        \n",
    "    def set_generator(self, steps_per_epoch=10, gen_param_dict=None):\n",
    "        if gen_param_dict is not None:\n",
    "            self.generator = ImageDataGenerator(**gen_param_dict)\n",
    "        else:\n",
    "            self.generator = ImageDataGenerator()\n",
    "        \n",
    "        print(self.machine.data.X_train.shape)\n",
    "        self.generator.fit(self.machine.data.X_train, seed=0)\n",
    "        self.steps_per_epoch = steps_per_epoch\n",
    "    \n",
    "    def fit(self, epochs=10, batch_size=64, verbose=1):\n",
    "        model = self.machine.model\n",
    "        data = self.machine.data\n",
    "        generator = self.generator\n",
    "        steps_per_epoch = self.machine.steps_per_epoch\n",
    "        \n",
    "        history = model.fit_generator(generator.flow(data.X_train, data.Y_train, batch_size=batch_size),\n",
    "            epochs=epochs, steps_per_epoch=steps_per_epoch, validation_data=(data.X_test, data.Y_test))\n",
    "        \n",
    "        return history\n",
    "                "
   ]
  },
  {
   "cell_type": "code",
   "execution_count": 4,
   "metadata": {},
   "outputs": [],
   "source": [
    "class Machine(Machine_Generator):\n",
    "    def __init__(self):\n",
    "        #super(Machine, self).__init__()\n",
    "        #super().__init__()\n",
    "        (x_train, y_train), (x_test, y_test) = datasets.cifar10.load_data()\n",
    "        _, X, _, y = model_selection.train_test_split(x_train, y_train, test_size=0.02)\n",
    "        X = X.astype(float)\n",
    "        gen_param_dict = {'rotation_range':10}\n",
    "        super().__init__(X, y, nb_classes=10, gen_param_dict=gen_param_dict)\n"
   ]
  },
  {
   "cell_type": "code",
   "execution_count": 5,
   "metadata": {},
   "outputs": [],
   "source": [
    "def main():\n",
    "    m = Machine()\n",
    "    m.machine.run()"
   ]
  },
  {
   "cell_type": "code",
   "execution_count": 6,
   "metadata": {
    "scrolled": false
   },
   "outputs": [
    {
     "name": "stdout",
     "output_type": "stream",
     "text": [
      "(800, 32, 32, 3) (800, 1)\n",
      "X_train shape: (800, 32, 32, 3)\n",
      "800 train samples\n",
      "200 test samples\n",
      "data.input_shape (32, 32, 3)\n",
      "(800, 32, 32, 3)\n",
      "Train on 800 samples, validate on 200 samples\n",
      "Epoch 1/100\n",
      "800/800 [==============================] - 3s 4ms/step - loss: 2.3777 - accuracy: 0.1150 - val_loss: 2.2906 - val_accuracy: 0.1100\n",
      "Epoch 2/100\n",
      "800/800 [==============================] - 0s 206us/step - loss: 2.2807 - accuracy: 0.1363 - val_loss: 2.2592 - val_accuracy: 0.1750\n",
      "Epoch 3/100\n",
      "800/800 [==============================] - 0s 222us/step - loss: 2.2464 - accuracy: 0.1513 - val_loss: 2.3001 - val_accuracy: 0.1450\n",
      "Epoch 4/100\n",
      "800/800 [==============================] - 0s 225us/step - loss: 2.2457 - accuracy: 0.1575 - val_loss: 2.2797 - val_accuracy: 0.1200\n",
      "Epoch 5/100\n",
      "800/800 [==============================] - 0s 219us/step - loss: 2.2473 - accuracy: 0.1550 - val_loss: 2.1740 - val_accuracy: 0.2350\n",
      "Epoch 6/100\n",
      "800/800 [==============================] - 0s 217us/step - loss: 2.1789 - accuracy: 0.2225 - val_loss: 2.1435 - val_accuracy: 0.1850\n",
      "Epoch 7/100\n",
      "800/800 [==============================] - 0s 224us/step - loss: 2.2670 - accuracy: 0.1625 - val_loss: 2.1540 - val_accuracy: 0.2250\n",
      "Epoch 8/100\n",
      "800/800 [==============================] - 0s 227us/step - loss: 2.1329 - accuracy: 0.2412 - val_loss: 2.2841 - val_accuracy: 0.1550\n",
      "Epoch 9/100\n",
      "800/800 [==============================] - 0s 230us/step - loss: 2.0369 - accuracy: 0.2412 - val_loss: 2.1352 - val_accuracy: 0.1700\n",
      "Epoch 10/100\n",
      "800/800 [==============================] - 0s 225us/step - loss: 2.0683 - accuracy: 0.2600 - val_loss: 2.0392 - val_accuracy: 0.3000\n",
      "Epoch 11/100\n",
      "800/800 [==============================] - 0s 225us/step - loss: 1.8968 - accuracy: 0.3262 - val_loss: 2.5625 - val_accuracy: 0.1100\n",
      "Epoch 12/100\n",
      "800/800 [==============================] - 0s 218us/step - loss: 2.0131 - accuracy: 0.2825 - val_loss: 2.4724 - val_accuracy: 0.1600\n",
      "Epoch 13/100\n",
      "800/800 [==============================] - 0s 218us/step - loss: 1.9611 - accuracy: 0.3063 - val_loss: 2.1709 - val_accuracy: 0.2150\n",
      "Epoch 14/100\n",
      "800/800 [==============================] - 0s 206us/step - loss: 1.9047 - accuracy: 0.3413 - val_loss: 2.2170 - val_accuracy: 0.2300\n",
      "Epoch 15/100\n",
      "800/800 [==============================] - 0s 211us/step - loss: 1.8115 - accuracy: 0.3738 - val_loss: 2.2450 - val_accuracy: 0.1650\n",
      "Epoch 16/100\n",
      "800/800 [==============================] - 0s 218us/step - loss: 1.8045 - accuracy: 0.4000 - val_loss: 2.3385 - val_accuracy: 0.2400\n",
      "Epoch 17/100\n",
      "800/800 [==============================] - 0s 223us/step - loss: 1.8346 - accuracy: 0.3850 - val_loss: 1.8820 - val_accuracy: 0.3100\n",
      "Epoch 18/100\n",
      "800/800 [==============================] - 0s 201us/step - loss: 1.6352 - accuracy: 0.4363 - val_loss: 1.7781 - val_accuracy: 0.3850\n",
      "Epoch 19/100\n",
      "800/800 [==============================] - 0s 204us/step - loss: 1.5835 - accuracy: 0.4450 - val_loss: 1.8213 - val_accuracy: 0.3350\n",
      "Epoch 20/100\n",
      "800/800 [==============================] - 0s 214us/step - loss: 1.4681 - accuracy: 0.4800 - val_loss: 1.7844 - val_accuracy: 0.3750\n",
      "Epoch 21/100\n",
      "800/800 [==============================] - 0s 226us/step - loss: 1.3916 - accuracy: 0.5025 - val_loss: 1.7284 - val_accuracy: 0.3550\n",
      "Epoch 22/100\n",
      "800/800 [==============================] - 0s 224us/step - loss: 1.3630 - accuracy: 0.5337 - val_loss: 1.9136 - val_accuracy: 0.2950\n",
      "Epoch 23/100\n",
      "800/800 [==============================] - 0s 220us/step - loss: 1.3920 - accuracy: 0.5337 - val_loss: 1.7146 - val_accuracy: 0.4000\n",
      "Epoch 24/100\n",
      "800/800 [==============================] - 0s 232us/step - loss: 1.2203 - accuracy: 0.6075 - val_loss: 1.8829 - val_accuracy: 0.3350\n",
      "Epoch 25/100\n",
      "800/800 [==============================] - 0s 230us/step - loss: 1.2006 - accuracy: 0.5987 - val_loss: 1.8932 - val_accuracy: 0.3100\n",
      "Epoch 26/100\n",
      "800/800 [==============================] - 0s 230us/step - loss: 1.2685 - accuracy: 0.5675 - val_loss: 1.8226 - val_accuracy: 0.3200\n",
      "Epoch 27/100\n",
      "800/800 [==============================] - 0s 232us/step - loss: 0.9598 - accuracy: 0.6837 - val_loss: 1.8648 - val_accuracy: 0.3950\n",
      "Epoch 28/100\n",
      "800/800 [==============================] - 0s 233us/step - loss: 0.8856 - accuracy: 0.7013 - val_loss: 2.2668 - val_accuracy: 0.3000\n",
      "Epoch 29/100\n",
      "800/800 [==============================] - 0s 206us/step - loss: 0.8895 - accuracy: 0.6988 - val_loss: 1.8667 - val_accuracy: 0.4050\n",
      "Epoch 30/100\n",
      "800/800 [==============================] - 0s 199us/step - loss: 0.7891 - accuracy: 0.7100 - val_loss: 1.8607 - val_accuracy: 0.4050\n",
      "Epoch 31/100\n",
      "800/800 [==============================] - 0s 210us/step - loss: 0.6828 - accuracy: 0.7638 - val_loss: 2.0355 - val_accuracy: 0.3250\n",
      "Epoch 32/100\n",
      "800/800 [==============================] - 0s 209us/step - loss: 0.7149 - accuracy: 0.7600 - val_loss: 2.0491 - val_accuracy: 0.3850\n",
      "Epoch 33/100\n",
      "800/800 [==============================] - 0s 201us/step - loss: 0.6835 - accuracy: 0.7575 - val_loss: 1.9997 - val_accuracy: 0.3350\n",
      "Epoch 34/100\n",
      "800/800 [==============================] - 0s 212us/step - loss: 0.4750 - accuracy: 0.8575 - val_loss: 2.1341 - val_accuracy: 0.3800\n",
      "Epoch 35/100\n",
      "800/800 [==============================] - 0s 206us/step - loss: 0.4598 - accuracy: 0.8537 - val_loss: 2.0463 - val_accuracy: 0.4350\n",
      "Epoch 36/100\n",
      "800/800 [==============================] - 0s 201us/step - loss: 0.6477 - accuracy: 0.7812 - val_loss: 1.8154 - val_accuracy: 0.4350\n",
      "Epoch 37/100\n",
      "800/800 [==============================] - 0s 203us/step - loss: 0.3687 - accuracy: 0.9075 - val_loss: 2.1754 - val_accuracy: 0.4500\n",
      "Epoch 38/100\n",
      "800/800 [==============================] - 0s 218us/step - loss: 0.3757 - accuracy: 0.8888 - val_loss: 2.3425 - val_accuracy: 0.4000\n",
      "Epoch 39/100\n",
      "800/800 [==============================] - 0s 212us/step - loss: 0.3718 - accuracy: 0.8850 - val_loss: 2.2956 - val_accuracy: 0.3600\n",
      "Epoch 40/100\n",
      "800/800 [==============================] - 0s 208us/step - loss: 0.3329 - accuracy: 0.9050 - val_loss: 2.2250 - val_accuracy: 0.3800\n",
      "Epoch 41/100\n",
      "800/800 [==============================] - 0s 203us/step - loss: 0.2509 - accuracy: 0.9287 - val_loss: 2.2723 - val_accuracy: 0.3750\n",
      "Epoch 42/100\n",
      "800/800 [==============================] - 0s 202us/step - loss: 0.2169 - accuracy: 0.9337 - val_loss: 2.3371 - val_accuracy: 0.4100\n",
      "Epoch 43/100\n",
      "800/800 [==============================] - 0s 209us/step - loss: 0.1874 - accuracy: 0.9563 - val_loss: 2.3954 - val_accuracy: 0.4300\n",
      "Epoch 44/100\n",
      "800/800 [==============================] - 0s 207us/step - loss: 0.2213 - accuracy: 0.9237 - val_loss: 2.7849 - val_accuracy: 0.3800\n",
      "Epoch 45/100\n",
      "800/800 [==============================] - 0s 198us/step - loss: 0.3435 - accuracy: 0.9013 - val_loss: 2.5896 - val_accuracy: 0.3800\n",
      "Epoch 46/100\n",
      "800/800 [==============================] - 0s 200us/step - loss: 0.1716 - accuracy: 0.9575 - val_loss: 2.7159 - val_accuracy: 0.3500\n",
      "Epoch 47/100\n",
      "800/800 [==============================] - 0s 223us/step - loss: 0.1775 - accuracy: 0.9513 - val_loss: 2.6450 - val_accuracy: 0.4000\n",
      "Epoch 48/100\n",
      "800/800 [==============================] - 0s 225us/step - loss: 0.1517 - accuracy: 0.9650 - val_loss: 2.7686 - val_accuracy: 0.3600\n",
      "Epoch 49/100\n",
      "800/800 [==============================] - 0s 236us/step - loss: 0.1431 - accuracy: 0.9563 - val_loss: 2.5536 - val_accuracy: 0.3950\n",
      "Epoch 50/100\n",
      "800/800 [==============================] - 0s 218us/step - loss: 0.1173 - accuracy: 0.9712 - val_loss: 2.6565 - val_accuracy: 0.4100\n",
      "Epoch 51/100\n",
      "800/800 [==============================] - 0s 201us/step - loss: 0.1180 - accuracy: 0.9675 - val_loss: 2.5068 - val_accuracy: 0.3850\n",
      "Epoch 52/100\n",
      "800/800 [==============================] - 0s 207us/step - loss: 0.0979 - accuracy: 0.9762 - val_loss: 2.7703 - val_accuracy: 0.4100\n",
      "Epoch 53/100\n",
      "800/800 [==============================] - 0s 208us/step - loss: 0.0892 - accuracy: 0.9837 - val_loss: 2.9754 - val_accuracy: 0.4300\n",
      "Epoch 54/100\n",
      "800/800 [==============================] - 0s 211us/step - loss: 0.0917 - accuracy: 0.9800 - val_loss: 3.0894 - val_accuracy: 0.3900\n",
      "Epoch 55/100\n",
      "800/800 [==============================] - 0s 208us/step - loss: 0.1037 - accuracy: 0.9688 - val_loss: 2.7939 - val_accuracy: 0.4400\n"
     ]
    },
    {
     "name": "stdout",
     "output_type": "stream",
     "text": [
      "Epoch 56/100\n",
      "800/800 [==============================] - 0s 210us/step - loss: 0.0843 - accuracy: 0.9775 - val_loss: 2.7385 - val_accuracy: 0.4200\n",
      "Epoch 57/100\n",
      "800/800 [==============================] - 0s 221us/step - loss: 0.0613 - accuracy: 0.9887 - val_loss: 2.8846 - val_accuracy: 0.4150\n",
      "Epoch 58/100\n",
      "800/800 [==============================] - 0s 221us/step - loss: 0.1169 - accuracy: 0.9712 - val_loss: 2.9119 - val_accuracy: 0.3900\n",
      "Epoch 59/100\n",
      "800/800 [==============================] - 0s 211us/step - loss: 0.1137 - accuracy: 0.9700 - val_loss: 2.8668 - val_accuracy: 0.4200\n",
      "Epoch 60/100\n",
      "800/800 [==============================] - 0s 200us/step - loss: 0.0682 - accuracy: 0.9887 - val_loss: 2.9276 - val_accuracy: 0.4450\n",
      "Epoch 61/100\n",
      "800/800 [==============================] - 0s 203us/step - loss: 0.0540 - accuracy: 0.9862 - val_loss: 2.9811 - val_accuracy: 0.4300\n",
      "Epoch 62/100\n",
      "800/800 [==============================] - 0s 199us/step - loss: 0.0519 - accuracy: 0.9862 - val_loss: 3.0114 - val_accuracy: 0.4150\n",
      "Epoch 63/100\n",
      "800/800 [==============================] - 0s 199us/step - loss: 0.0540 - accuracy: 0.9875 - val_loss: 3.3399 - val_accuracy: 0.3800\n",
      "Epoch 64/100\n",
      "800/800 [==============================] - 0s 209us/step - loss: 0.0763 - accuracy: 0.9800 - val_loss: 3.0452 - val_accuracy: 0.3500\n",
      "Epoch 65/100\n",
      "800/800 [==============================] - 0s 208us/step - loss: 0.0681 - accuracy: 0.9812 - val_loss: 3.3179 - val_accuracy: 0.3600\n",
      "Epoch 66/100\n",
      "800/800 [==============================] - 0s 213us/step - loss: 0.0815 - accuracy: 0.9775 - val_loss: 2.8679 - val_accuracy: 0.4100\n",
      "Epoch 67/100\n",
      "800/800 [==============================] - 0s 209us/step - loss: 0.0407 - accuracy: 0.9962 - val_loss: 3.0884 - val_accuracy: 0.4200\n",
      "Epoch 68/100\n",
      "800/800 [==============================] - 0s 233us/step - loss: 0.0372 - accuracy: 0.9950 - val_loss: 3.2089 - val_accuracy: 0.4150\n",
      "Epoch 69/100\n",
      "800/800 [==============================] - 0s 226us/step - loss: 0.0404 - accuracy: 0.9912 - val_loss: 3.3431 - val_accuracy: 0.3850\n",
      "Epoch 70/100\n",
      "800/800 [==============================] - 0s 202us/step - loss: 0.0637 - accuracy: 0.9825 - val_loss: 3.1115 - val_accuracy: 0.4250\n",
      "Epoch 71/100\n",
      "800/800 [==============================] - 0s 204us/step - loss: 0.0306 - accuracy: 0.9962 - val_loss: 3.3543 - val_accuracy: 0.3950\n",
      "Epoch 72/100\n",
      "800/800 [==============================] - 0s 205us/step - loss: 0.0422 - accuracy: 0.9850 - val_loss: 3.2656 - val_accuracy: 0.4100\n",
      "Epoch 73/100\n",
      "800/800 [==============================] - 0s 210us/step - loss: 0.0419 - accuracy: 0.9900 - val_loss: 3.2444 - val_accuracy: 0.3900\n",
      "Epoch 74/100\n",
      "800/800 [==============================] - 0s 210us/step - loss: 0.0322 - accuracy: 0.9937 - val_loss: 3.2457 - val_accuracy: 0.4250\n",
      "Epoch 75/100\n",
      "800/800 [==============================] - 0s 208us/step - loss: 0.0445 - accuracy: 0.9862 - val_loss: 3.2199 - val_accuracy: 0.4000\n",
      "Epoch 76/100\n",
      "800/800 [==============================] - 0s 213us/step - loss: 0.0496 - accuracy: 0.9900 - val_loss: 3.8922 - val_accuracy: 0.3850\n",
      "Epoch 77/100\n",
      "800/800 [==============================] - 0s 225us/step - loss: 0.0762 - accuracy: 0.9750 - val_loss: 3.2625 - val_accuracy: 0.3750\n",
      "Epoch 78/100\n",
      "800/800 [==============================] - 0s 217us/step - loss: 0.0384 - accuracy: 0.9887 - val_loss: 3.3028 - val_accuracy: 0.4050\n",
      "Epoch 79/100\n",
      "800/800 [==============================] - 0s 202us/step - loss: 0.0272 - accuracy: 0.9975 - val_loss: 3.3600 - val_accuracy: 0.4250\n",
      "Epoch 80/100\n",
      "800/800 [==============================] - 0s 202us/step - loss: 0.0320 - accuracy: 0.9912 - val_loss: 3.5546 - val_accuracy: 0.3950\n",
      "Epoch 81/100\n",
      "800/800 [==============================] - 0s 209us/step - loss: 0.0334 - accuracy: 0.9937 - val_loss: 3.4135 - val_accuracy: 0.4050\n",
      "Epoch 82/100\n",
      "800/800 [==============================] - 0s 198us/step - loss: 0.0248 - accuracy: 0.9962 - val_loss: 3.5837 - val_accuracy: 0.4450\n",
      "Epoch 83/100\n",
      "800/800 [==============================] - 0s 205us/step - loss: 0.0287 - accuracy: 0.9900 - val_loss: 3.4683 - val_accuracy: 0.4250\n",
      "Epoch 84/100\n",
      "800/800 [==============================] - 0s 200us/step - loss: 0.0309 - accuracy: 0.9937 - val_loss: 3.6303 - val_accuracy: 0.4100\n",
      "Epoch 85/100\n",
      "800/800 [==============================] - 0s 201us/step - loss: 0.0257 - accuracy: 0.9950 - val_loss: 3.5906 - val_accuracy: 0.4200\n",
      "Epoch 86/100\n",
      "800/800 [==============================] - 0s 208us/step - loss: 0.0236 - accuracy: 0.9925 - val_loss: 3.4802 - val_accuracy: 0.4150\n",
      "Epoch 87/100\n",
      "800/800 [==============================] - 0s 222us/step - loss: 0.0251 - accuracy: 0.9937 - val_loss: 3.4106 - val_accuracy: 0.4350\n",
      "Epoch 88/100\n",
      "800/800 [==============================] - 0s 216us/step - loss: 0.0405 - accuracy: 0.9887 - val_loss: 3.3538 - val_accuracy: 0.4300\n",
      "Epoch 89/100\n",
      "800/800 [==============================] - 0s 219us/step - loss: 0.0282 - accuracy: 0.9925 - val_loss: 3.7301 - val_accuracy: 0.3900\n",
      "Epoch 90/100\n",
      "800/800 [==============================] - 0s 233us/step - loss: 0.0324 - accuracy: 0.9912 - val_loss: 3.6326 - val_accuracy: 0.4100\n",
      "Epoch 91/100\n",
      "800/800 [==============================] - 0s 214us/step - loss: 0.0327 - accuracy: 0.9912 - val_loss: 3.4859 - val_accuracy: 0.4300\n",
      "Epoch 92/100\n",
      "800/800 [==============================] - 0s 199us/step - loss: 0.0274 - accuracy: 0.9937 - val_loss: 3.7287 - val_accuracy: 0.4000\n",
      "Epoch 93/100\n",
      "800/800 [==============================] - 0s 207us/step - loss: 0.0321 - accuracy: 0.9925 - val_loss: 3.8366 - val_accuracy: 0.3800\n",
      "Epoch 94/100\n",
      "800/800 [==============================] - 0s 202us/step - loss: 0.0236 - accuracy: 0.9962 - val_loss: 3.6923 - val_accuracy: 0.4150\n",
      "Epoch 95/100\n",
      "800/800 [==============================] - 0s 198us/step - loss: 0.0204 - accuracy: 0.9962 - val_loss: 3.8374 - val_accuracy: 0.4150\n",
      "Epoch 96/100\n",
      "800/800 [==============================] - 0s 206us/step - loss: 0.0304 - accuracy: 0.9900 - val_loss: 3.7321 - val_accuracy: 0.4050\n",
      "Epoch 97/100\n",
      "800/800 [==============================] - 0s 204us/step - loss: 0.0224 - accuracy: 0.9950 - val_loss: 3.8413 - val_accuracy: 0.4100\n",
      "Epoch 98/100\n",
      "800/800 [==============================] - 0s 204us/step - loss: 0.0161 - accuracy: 0.9962 - val_loss: 3.7202 - val_accuracy: 0.4300\n",
      "Epoch 99/100\n",
      "800/800 [==============================] - 0s 208us/step - loss: 0.0188 - accuracy: 0.9975 - val_loss: 3.9772 - val_accuracy: 0.3950\n",
      "Epoch 100/100\n",
      "800/800 [==============================] - 0s 214us/step - loss: 0.0170 - accuracy: 0.9962 - val_loss: 3.7967 - val_accuracy: 0.4050\n",
      "Confusion matrix\n",
      "[[12  3  2  0  0  1  0  1  4  0]\n",
      " [ 0 14  0  0  0  1  1  2  3  1]\n",
      " [ 5  1  5  1  0  4  2  2  1  0]\n",
      " [ 0  0  0  3  2  8  4  3  0  1]\n",
      " [ 1  0  0  0  3  4  2  2  0  2]\n",
      " [ 0  1  1  3  0  9  2  3  0  2]\n",
      " [ 0  2  1  1  2  3  5  0  1  1]\n",
      " [ 0  0  1  3  1  3  0  6  0  1]\n",
      " [ 2  2  1  1  0  3  0  1 17  0]\n",
      " [ 0  6  0  3  0  0  0  0  4  7]]\n",
      "Test score: 3.796652297973633\n",
      "Test accuracy: 0.4050000011920929\n",
      "Output results are saved in output_05dc1b6e-8074-47aa-9e6f-792bd0f70f53\n"
     ]
    },
    {
     "data": {
      "image/png": "[encoded data removed]",
      "text/plain": [
       "<Figure size 432x288 with 1 Axes>"
      ]
     },
     "metadata": {
      "needs_background": "light"
     },
     "output_type": "display_data"
    },
    {
     "data": {
      "image/png": "[encoded data removed]",
      "text/plain": [
       "<Figure size 432x288 with 1 Axes>"
      ]
     },
     "metadata": {
      "needs_background": "light"
     },
     "output_type": "display_data"
    }
   ],
   "source": [
    "main()"
   ]
  },
  {
   "cell_type": "code",
   "execution_count": 7,
   "metadata": {},
   "outputs": [
    {
     "name": "stdout",
     "output_type": "stream",
     "text": [
      "2.1.0\n",
      "2.3.1\n"
     ]
    }
   ],
   "source": [
    "import tensorflow as tf\n",
    "print(tf.__version__)\n",
    "print(keras.__version__)\n"
   ]
  },
  {
   "cell_type": "code",
   "execution_count": 8,
   "metadata": {},
   "outputs": [
    {
     "name": "stdout",
     "output_type": "stream",
     "text": [
      "[name: \"/device:CPU:0\"\n",
      "device_type: \"CPU\"\n",
      "memory_limit: 268435456\n",
      "locality {\n",
      "}\n",
      "incarnation: 15390184121011420332\n",
      ", name: \"/device:XLA_CPU:0\"\n",
      "device_type: \"XLA_CPU\"\n",
      "memory_limit: 17179869184\n",
      "locality {\n",
      "}\n",
      "incarnation: 2742948125776319753\n",
      "physical_device_desc: \"device: XLA_CPU device\"\n",
      ", name: \"/device:XLA_GPU:0\"\n",
      "device_type: \"XLA_GPU\"\n",
      "memory_limit: 17179869184\n",
      "locality {\n",
      "}\n",
      "incarnation: 12575674536392408678\n",
      "physical_device_desc: \"device: XLA_GPU device\"\n",
      ", name: \"/device:GPU:0\"\n",
      "device_type: \"GPU\"\n",
      "memory_limit: 3604021248\n",
      "locality {\n",
      "  bus_id: 1\n",
      "  links {\n",
      "  }\n",
      "}\n",
      "incarnation: 12577078078913872379\n",
      "physical_device_desc: \"device: 0, name: GeForce GTX 1050, pci bus id: 0000:01:00.0, compute capability: 6.1\"\n",
      "]\n"
     ]
    }
   ],
   "source": [
    "from tensorflow.python.client import device_lib\n",
    "print(device_lib.list_local_devices())"
   ]
  },
  {
   "cell_type": "code",
   "execution_count": null,
   "metadata": {},
   "outputs": [],
   "source": []
  }
 ],
 "metadata": {
  "kernelspec": {
   "display_name": "Python 3",
   "language": "python",
   "name": "python3"
  },
  "language_info": {
   "codemirror_mode": {
    "name": "ipython",
    "version": 3
   },
   "file_extension": ".py",
   "mimetype": "text/x-python",
   "name": "python",
   "nbconvert_exporter": "python",
   "pygments_lexer": "ipython3",
   "version": "3.7.6"
  }
 },
 "nbformat": 4,
 "nbformat_minor": 4
}
