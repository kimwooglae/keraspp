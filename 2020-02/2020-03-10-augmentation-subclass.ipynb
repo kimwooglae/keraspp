{
 "cells": [
  {
   "cell_type": "code",
   "execution_count": 1,
   "metadata": {},
   "outputs": [
    {
     "name": "stderr",
     "output_type": "stream",
     "text": [
      "Using TensorFlow backend.\n"
     ]
    }
   ],
   "source": [
    "from sklearn import model_selection\n",
    "from keras import datasets\n",
    "import keras\n",
    "assert keras.backend.image_data_format() == 'channels_last'\n",
    "from keraspp import aigen_subclass"
   ]
  },
  {
   "cell_type": "code",
   "execution_count": 2,
   "metadata": {},
   "outputs": [],
   "source": [
    "from keras.preprocessing.image import ImageDataGenerator\n",
    "from keraspp import aicnn_subclass"
   ]
  },
  {
   "cell_type": "code",
   "execution_count": 3,
   "metadata": {},
   "outputs": [],
   "source": [
    "class Machine(aigen_subclass.Machine_Generator):\n",
    "    def __init__(self):\n",
    "        (x_train, y_train), (x_test, y_test) = datasets.cifar10.load_data()\n",
    "        _, X, _, y = model_selection.train_test_split(x_train, y_train, test_size=0.02)\n",
    "        X = X.astype(float)\n",
    "        gen_param_dict = {'rotation_range':10}\n",
    "        super().__init__(X, y, nb_classes=10, gen_param_dict=gen_param_dict)\n"
   ]
  },
  {
   "cell_type": "code",
   "execution_count": 4,
   "metadata": {},
   "outputs": [],
   "source": [
    "def main():\n",
    "    m = Machine()\n",
    "    m.run()"
   ]
  },
  {
   "cell_type": "code",
   "execution_count": 5,
   "metadata": {
    "scrolled": false
   },
   "outputs": [
    {
     "name": "stdout",
     "output_type": "stream",
     "text": [
      "(800, 32, 32, 3) (800, 1)\n",
      "X_train shape: (800, 32, 32, 3)\n",
      "800 train samples\n",
      "200 test samples\n",
      "data.input_shape (32, 32, 3)\n",
      "Train on 800 samples, validate on 200 samples\n",
      "Epoch 1/100\n",
      "800/800 [==============================] - 2s 2ms/step - loss: 2.3724 - accuracy: 0.1238 - val_loss: 2.2486 - val_accuracy: 0.1250\n",
      "Epoch 2/100\n",
      "800/800 [==============================] - 0s 201us/step - loss: 2.2526 - accuracy: 0.1363 - val_loss: 2.2407 - val_accuracy: 0.1200\n",
      "Epoch 3/100\n",
      "800/800 [==============================] - 0s 205us/step - loss: 2.2472 - accuracy: 0.1675 - val_loss: 2.1721 - val_accuracy: 0.2000\n",
      "Epoch 4/100\n",
      "800/800 [==============================] - 0s 201us/step - loss: 2.2589 - accuracy: 0.1762 - val_loss: 2.1724 - val_accuracy: 0.1650\n",
      "Epoch 5/100\n",
      "800/800 [==============================] - 0s 207us/step - loss: 2.2227 - accuracy: 0.2050 - val_loss: 2.1776 - val_accuracy: 0.2050\n",
      "Epoch 6/100\n",
      "800/800 [==============================] - 0s 204us/step - loss: 2.1211 - accuracy: 0.2100 - val_loss: 2.3186 - val_accuracy: 0.0950\n",
      "Epoch 7/100\n",
      "800/800 [==============================] - 0s 217us/step - loss: 2.1107 - accuracy: 0.2025 - val_loss: 2.1830 - val_accuracy: 0.1650\n",
      "Epoch 8/100\n",
      "800/800 [==============================] - 0s 220us/step - loss: 2.0897 - accuracy: 0.2288 - val_loss: 2.1251 - val_accuracy: 0.2350\n",
      "Epoch 9/100\n",
      "800/800 [==============================] - 0s 217us/step - loss: 2.0941 - accuracy: 0.2488 - val_loss: 2.1017 - val_accuracy: 0.2600\n",
      "Epoch 10/100\n",
      "800/800 [==============================] - 0s 216us/step - loss: 2.0790 - accuracy: 0.2612 - val_loss: 1.9880 - val_accuracy: 0.3000\n",
      "Epoch 11/100\n",
      "800/800 [==============================] - 0s 215us/step - loss: 2.0337 - accuracy: 0.2650 - val_loss: 2.0910 - val_accuracy: 0.1800\n",
      "Epoch 12/100\n",
      "800/800 [==============================] - 0s 209us/step - loss: 2.0198 - accuracy: 0.2875 - val_loss: 1.9366 - val_accuracy: 0.2700\n",
      "Epoch 13/100\n",
      "800/800 [==============================] - 0s 217us/step - loss: 1.9376 - accuracy: 0.3162 - val_loss: 2.0868 - val_accuracy: 0.2250\n",
      "Epoch 14/100\n",
      "800/800 [==============================] - 0s 220us/step - loss: 1.8599 - accuracy: 0.3425 - val_loss: 1.8607 - val_accuracy: 0.3350\n",
      "Epoch 15/100\n",
      "800/800 [==============================] - 0s 209us/step - loss: 1.7397 - accuracy: 0.3850 - val_loss: 2.0144 - val_accuracy: 0.2650\n",
      "Epoch 16/100\n",
      "800/800 [==============================] - 0s 212us/step - loss: 1.7916 - accuracy: 0.3812 - val_loss: 1.9467 - val_accuracy: 0.3050\n",
      "Epoch 17/100\n",
      "800/800 [==============================] - 0s 205us/step - loss: 1.6995 - accuracy: 0.3887 - val_loss: 2.0255 - val_accuracy: 0.2500\n",
      "Epoch 18/100\n",
      "800/800 [==============================] - 0s 203us/step - loss: 1.6309 - accuracy: 0.4162 - val_loss: 1.7739 - val_accuracy: 0.3900\n",
      "Epoch 19/100\n",
      "800/800 [==============================] - 0s 212us/step - loss: 1.7090 - accuracy: 0.3938 - val_loss: 2.0057 - val_accuracy: 0.2850\n",
      "Epoch 20/100\n",
      "800/800 [==============================] - 0s 222us/step - loss: 1.5785 - accuracy: 0.4538 - val_loss: 1.9110 - val_accuracy: 0.3400\n",
      "Epoch 21/100\n",
      "800/800 [==============================] - 0s 216us/step - loss: 1.4794 - accuracy: 0.4938 - val_loss: 1.9551 - val_accuracy: 0.3350\n",
      "Epoch 22/100\n",
      "800/800 [==============================] - 0s 229us/step - loss: 1.3729 - accuracy: 0.5125 - val_loss: 2.2009 - val_accuracy: 0.2400\n",
      "Epoch 23/100\n",
      "800/800 [==============================] - 0s 230us/step - loss: 1.3290 - accuracy: 0.5337 - val_loss: 1.8976 - val_accuracy: 0.3700\n",
      "Epoch 24/100\n",
      "800/800 [==============================] - 0s 224us/step - loss: 1.3038 - accuracy: 0.5600 - val_loss: 1.7758 - val_accuracy: 0.3750\n",
      "Epoch 25/100\n",
      "800/800 [==============================] - 0s 233us/step - loss: 1.1106 - accuracy: 0.6212 - val_loss: 2.1969 - val_accuracy: 0.2800\n",
      "Epoch 26/100\n",
      "800/800 [==============================] - 0s 225us/step - loss: 1.2779 - accuracy: 0.5713 - val_loss: 1.9371 - val_accuracy: 0.3350\n",
      "Epoch 27/100\n",
      "800/800 [==============================] - 0s 229us/step - loss: 1.0538 - accuracy: 0.6488 - val_loss: 1.8290 - val_accuracy: 0.4000\n",
      "Epoch 28/100\n",
      "800/800 [==============================] - 0s 228us/step - loss: 0.9054 - accuracy: 0.6700 - val_loss: 2.0345 - val_accuracy: 0.3900\n",
      "Epoch 29/100\n",
      "800/800 [==============================] - 0s 222us/step - loss: 0.9281 - accuracy: 0.6825 - val_loss: 2.1501 - val_accuracy: 0.3050\n",
      "Epoch 30/100\n",
      "800/800 [==============================] - 0s 214us/step - loss: 0.9207 - accuracy: 0.6787 - val_loss: 1.8275 - val_accuracy: 0.4100\n",
      "Epoch 31/100\n",
      "800/800 [==============================] - 0s 211us/step - loss: 0.7659 - accuracy: 0.7362 - val_loss: 2.2170 - val_accuracy: 0.3200\n",
      "Epoch 32/100\n",
      "800/800 [==============================] - 0s 202us/step - loss: 0.7189 - accuracy: 0.7763 - val_loss: 2.2262 - val_accuracy: 0.3450\n",
      "Epoch 33/100\n",
      "800/800 [==============================] - 0s 224us/step - loss: 0.7473 - accuracy: 0.7550 - val_loss: 1.9881 - val_accuracy: 0.4100\n",
      "Epoch 34/100\n",
      "800/800 [==============================] - 0s 233us/step - loss: 0.5501 - accuracy: 0.8250 - val_loss: 2.2305 - val_accuracy: 0.3750\n",
      "Epoch 35/100\n",
      "800/800 [==============================] - 0s 236us/step - loss: 0.5627 - accuracy: 0.8275 - val_loss: 2.1324 - val_accuracy: 0.3800\n",
      "Epoch 36/100\n",
      "800/800 [==============================] - 0s 234us/step - loss: 0.5430 - accuracy: 0.8163 - val_loss: 2.0736 - val_accuracy: 0.3750\n",
      "Epoch 37/100\n",
      "800/800 [==============================] - 0s 234us/step - loss: 0.4503 - accuracy: 0.8725 - val_loss: 2.1738 - val_accuracy: 0.4150\n",
      "Epoch 38/100\n",
      "800/800 [==============================] - 0s 234us/step - loss: 0.3931 - accuracy: 0.8800 - val_loss: 2.0249 - val_accuracy: 0.4150\n",
      "Epoch 39/100\n",
      "800/800 [==============================] - 0s 233us/step - loss: 0.4074 - accuracy: 0.8612 - val_loss: 2.2169 - val_accuracy: 0.3850\n",
      "Epoch 40/100\n",
      "800/800 [==============================] - 0s 231us/step - loss: 0.3325 - accuracy: 0.9000 - val_loss: 2.1301 - val_accuracy: 0.3850\n",
      "Epoch 41/100\n",
      "800/800 [==============================] - 0s 226us/step - loss: 0.2889 - accuracy: 0.9287 - val_loss: 2.4753 - val_accuracy: 0.3850\n",
      "Epoch 42/100\n",
      "800/800 [==============================] - 0s 237us/step - loss: 0.2793 - accuracy: 0.9275 - val_loss: 2.2839 - val_accuracy: 0.3850\n",
      "Epoch 43/100\n",
      "800/800 [==============================] - 0s 223us/step - loss: 0.3068 - accuracy: 0.9000 - val_loss: 2.3961 - val_accuracy: 0.3950\n",
      "Epoch 44/100\n",
      "800/800 [==============================] - 0s 206us/step - loss: 0.2219 - accuracy: 0.9300 - val_loss: 2.3401 - val_accuracy: 0.3900\n",
      "Epoch 45/100\n",
      "800/800 [==============================] - 0s 210us/step - loss: 0.2112 - accuracy: 0.9400 - val_loss: 2.5115 - val_accuracy: 0.3700\n",
      "Epoch 46/100\n",
      "800/800 [==============================] - 0s 207us/step - loss: 0.1970 - accuracy: 0.9550 - val_loss: 2.5251 - val_accuracy: 0.4050\n",
      "Epoch 47/100\n",
      "800/800 [==============================] - 0s 204us/step - loss: 0.2025 - accuracy: 0.9400 - val_loss: 2.6315 - val_accuracy: 0.3800\n",
      "Epoch 48/100\n",
      "800/800 [==============================] - 0s 208us/step - loss: 0.1973 - accuracy: 0.9413 - val_loss: 2.5071 - val_accuracy: 0.3950\n",
      "Epoch 49/100\n",
      "800/800 [==============================] - 0s 214us/step - loss: 0.1791 - accuracy: 0.9425 - val_loss: 2.4519 - val_accuracy: 0.4300\n",
      "Epoch 50/100\n",
      "800/800 [==============================] - 0s 214us/step - loss: 0.1750 - accuracy: 0.9513 - val_loss: 2.3264 - val_accuracy: 0.4050\n",
      "Epoch 51/100\n",
      "800/800 [==============================] - 0s 205us/step - loss: 0.1378 - accuracy: 0.9700 - val_loss: 2.5399 - val_accuracy: 0.4200\n",
      "Epoch 52/100\n",
      "800/800 [==============================] - 0s 201us/step - loss: 0.1253 - accuracy: 0.9725 - val_loss: 2.3744 - val_accuracy: 0.4200\n",
      "Epoch 53/100\n",
      "800/800 [==============================] - 0s 202us/step - loss: 0.1091 - accuracy: 0.9775 - val_loss: 2.5729 - val_accuracy: 0.3950\n",
      "Epoch 54/100\n",
      "800/800 [==============================] - 0s 206us/step - loss: 0.1038 - accuracy: 0.9688 - val_loss: 2.6367 - val_accuracy: 0.4200\n",
      "Epoch 55/100\n",
      "800/800 [==============================] - 0s 215us/step - loss: 0.1238 - accuracy: 0.9650 - val_loss: 2.5371 - val_accuracy: 0.4450\n",
      "Epoch 56/100\n"
     ]
    },
    {
     "name": "stdout",
     "output_type": "stream",
     "text": [
      "800/800 [==============================] - 0s 200us/step - loss: 0.1022 - accuracy: 0.9725 - val_loss: 2.4905 - val_accuracy: 0.4150\n",
      "Epoch 57/100\n",
      "800/800 [==============================] - 0s 218us/step - loss: 0.0931 - accuracy: 0.9762 - val_loss: 3.1312 - val_accuracy: 0.3900\n",
      "Epoch 58/100\n",
      "800/800 [==============================] - 0s 226us/step - loss: 0.1275 - accuracy: 0.9613 - val_loss: 2.5160 - val_accuracy: 0.4300\n",
      "Epoch 59/100\n",
      "800/800 [==============================] - 0s 215us/step - loss: 0.0773 - accuracy: 0.9862 - val_loss: 2.5950 - val_accuracy: 0.4450\n",
      "Epoch 60/100\n",
      "800/800 [==============================] - 0s 226us/step - loss: 0.0787 - accuracy: 0.9787 - val_loss: 2.8277 - val_accuracy: 0.4100\n",
      "Epoch 61/100\n",
      "800/800 [==============================] - 0s 228us/step - loss: 0.0732 - accuracy: 0.9850 - val_loss: 2.7064 - val_accuracy: 0.4400\n",
      "Epoch 62/100\n",
      "800/800 [==============================] - 0s 231us/step - loss: 0.0523 - accuracy: 0.9925 - val_loss: 3.0444 - val_accuracy: 0.3900\n",
      "Epoch 63/100\n",
      "800/800 [==============================] - 0s 217us/step - loss: 0.1273 - accuracy: 0.9600 - val_loss: 2.6230 - val_accuracy: 0.4150\n",
      "Epoch 64/100\n",
      "800/800 [==============================] - 0s 205us/step - loss: 0.0600 - accuracy: 0.9887 - val_loss: 2.7388 - val_accuracy: 0.4400\n",
      "Epoch 65/100\n",
      "800/800 [==============================] - 0s 205us/step - loss: 0.0827 - accuracy: 0.9800 - val_loss: 2.7907 - val_accuracy: 0.4350\n",
      "Epoch 66/100\n",
      "800/800 [==============================] - 0s 214us/step - loss: 0.0597 - accuracy: 0.9862 - val_loss: 3.3344 - val_accuracy: 0.3600\n",
      "Epoch 67/100\n",
      "800/800 [==============================] - 0s 233us/step - loss: 0.0729 - accuracy: 0.9750 - val_loss: 2.8235 - val_accuracy: 0.4150\n",
      "Epoch 68/100\n",
      "800/800 [==============================] - 0s 227us/step - loss: 0.0601 - accuracy: 0.9825 - val_loss: 2.9006 - val_accuracy: 0.4400\n",
      "Epoch 69/100\n",
      "800/800 [==============================] - 0s 203us/step - loss: 0.0492 - accuracy: 0.9912 - val_loss: 2.8712 - val_accuracy: 0.4350\n",
      "Epoch 70/100\n",
      "800/800 [==============================] - 0s 205us/step - loss: 0.0359 - accuracy: 0.9925 - val_loss: 2.9913 - val_accuracy: 0.4150\n",
      "Epoch 71/100\n",
      "800/800 [==============================] - 0s 234us/step - loss: 0.0412 - accuracy: 0.9912 - val_loss: 3.0991 - val_accuracy: 0.4250\n",
      "Epoch 72/100\n",
      "800/800 [==============================] - 0s 221us/step - loss: 0.0528 - accuracy: 0.9875 - val_loss: 2.8787 - val_accuracy: 0.4500\n",
      "Epoch 73/100\n",
      "800/800 [==============================] - 0s 217us/step - loss: 0.0392 - accuracy: 0.9937 - val_loss: 3.1130 - val_accuracy: 0.4400\n",
      "Epoch 74/100\n",
      "800/800 [==============================] - 0s 222us/step - loss: 0.0438 - accuracy: 0.9900 - val_loss: 3.1154 - val_accuracy: 0.4550\n",
      "Epoch 75/100\n",
      "800/800 [==============================] - 0s 203us/step - loss: 0.0497 - accuracy: 0.9825 - val_loss: 3.1101 - val_accuracy: 0.4400\n",
      "Epoch 76/100\n",
      "800/800 [==============================] - 0s 213us/step - loss: 0.0568 - accuracy: 0.9862 - val_loss: 3.0398 - val_accuracy: 0.4000\n",
      "Epoch 77/100\n",
      "800/800 [==============================] - 0s 203us/step - loss: 0.0419 - accuracy: 0.9925 - val_loss: 3.5649 - val_accuracy: 0.3950\n",
      "Epoch 78/100\n",
      "800/800 [==============================] - 0s 200us/step - loss: 0.0802 - accuracy: 0.9750 - val_loss: 3.0468 - val_accuracy: 0.4450\n",
      "Epoch 79/100\n",
      "800/800 [==============================] - 0s 201us/step - loss: 0.0466 - accuracy: 0.9900 - val_loss: 3.0839 - val_accuracy: 0.4250\n",
      "Epoch 80/100\n",
      "800/800 [==============================] - 0s 201us/step - loss: 0.0415 - accuracy: 0.9925 - val_loss: 3.1364 - val_accuracy: 0.4200\n",
      "Epoch 81/100\n",
      "800/800 [==============================] - 0s 200us/step - loss: 0.0348 - accuracy: 0.9937 - val_loss: 3.2402 - val_accuracy: 0.4650\n",
      "Epoch 82/100\n",
      "800/800 [==============================] - 0s 232us/step - loss: 0.0399 - accuracy: 0.9887 - val_loss: 3.1343 - val_accuracy: 0.4350\n",
      "Epoch 83/100\n",
      "800/800 [==============================] - 0s 225us/step - loss: 0.0231 - accuracy: 0.9975 - val_loss: 3.5106 - val_accuracy: 0.4450\n",
      "Epoch 84/100\n",
      "800/800 [==============================] - 0s 214us/step - loss: 0.0373 - accuracy: 0.9875 - val_loss: 3.1220 - val_accuracy: 0.4500\n",
      "Epoch 85/100\n",
      "800/800 [==============================] - 0s 216us/step - loss: 0.0294 - accuracy: 0.9925 - val_loss: 3.2870 - val_accuracy: 0.4250\n",
      "Epoch 86/100\n",
      "800/800 [==============================] - 0s 224us/step - loss: 0.0292 - accuracy: 0.9975 - val_loss: 3.1825 - val_accuracy: 0.4350\n",
      "Epoch 87/100\n",
      "800/800 [==============================] - 0s 225us/step - loss: 0.0325 - accuracy: 0.9900 - val_loss: 3.2968 - val_accuracy: 0.4550\n",
      "Epoch 88/100\n",
      "800/800 [==============================] - 0s 226us/step - loss: 0.0424 - accuracy: 0.9887 - val_loss: 3.1303 - val_accuracy: 0.4450\n",
      "Epoch 89/100\n",
      "800/800 [==============================] - 0s 226us/step - loss: 0.0246 - accuracy: 0.9962 - val_loss: 3.3687 - val_accuracy: 0.4150\n",
      "Epoch 90/100\n",
      "800/800 [==============================] - 0s 215us/step - loss: 0.0509 - accuracy: 0.9887 - val_loss: 3.1237 - val_accuracy: 0.4300\n",
      "Epoch 91/100\n",
      "800/800 [==============================] - 0s 225us/step - loss: 0.0373 - accuracy: 0.9925 - val_loss: 3.5867 - val_accuracy: 0.3700\n",
      "Epoch 92/100\n",
      "800/800 [==============================] - 0s 232us/step - loss: 0.0435 - accuracy: 0.9900 - val_loss: 3.1840 - val_accuracy: 0.4200\n",
      "Epoch 93/100\n",
      "800/800 [==============================] - 0s 223us/step - loss: 0.0391 - accuracy: 0.9912 - val_loss: 3.2022 - val_accuracy: 0.4300\n",
      "Epoch 94/100\n",
      "800/800 [==============================] - 0s 211us/step - loss: 0.0267 - accuracy: 0.9987 - val_loss: 3.3810 - val_accuracy: 0.4300\n",
      "Epoch 95/100\n",
      "800/800 [==============================] - 0s 232us/step - loss: 0.0276 - accuracy: 0.9962 - val_loss: 3.3075 - val_accuracy: 0.4200\n",
      "Epoch 96/100\n",
      "800/800 [==============================] - 0s 236us/step - loss: 0.0239 - accuracy: 0.9912 - val_loss: 3.3790 - val_accuracy: 0.4450\n",
      "Epoch 97/100\n",
      "800/800 [==============================] - 0s 223us/step - loss: 0.0297 - accuracy: 0.9925 - val_loss: 3.3353 - val_accuracy: 0.4200\n",
      "Epoch 98/100\n",
      "800/800 [==============================] - 0s 220us/step - loss: 0.0389 - accuracy: 0.9862 - val_loss: 3.3025 - val_accuracy: 0.4000\n",
      "Epoch 99/100\n",
      "800/800 [==============================] - 0s 227us/step - loss: 0.0340 - accuracy: 0.9925 - val_loss: 3.5497 - val_accuracy: 0.4300\n",
      "Epoch 100/100\n",
      "800/800 [==============================] - 0s 225us/step - loss: 0.0248 - accuracy: 0.9925 - val_loss: 3.5211 - val_accuracy: 0.4300\n",
      "Confusion matrix\n",
      "[[ 9  0  1  1  0  1  0  1  2  4]\n",
      " [ 0 10  0  1  0  0  1  0  2  7]\n",
      " [ 4  0  2  4  4  3  1  4  1  1]\n",
      " [ 2  0  2 10  1  2  1  1  0  0]\n",
      " [ 1  1  1  3  8  6  2  3  0  0]\n",
      " [ 0  0  1  5  0 13  0  4  0  0]\n",
      " [ 0  0  2  3  1  2  7  0  0  1]\n",
      " [ 0  0  0  2  1  3  1  7  0  2]\n",
      " [ 2  2  1  0  2  2  0  1 12  1]\n",
      " [ 0  0  0  0  0  1  0  3  2  8]]\n",
      "Test score: 3.5210707855224608\n",
      "Test accuracy: 0.4300000071525574\n",
      "Output results are saved in output_4186cdb2-21c6-4814-b57a-d810cdbd71e2\n"
     ]
    },
    {
     "data": {
      "image/png": "[encoded data removed]",
      "text/plain": [
       "<Figure size 432x288 with 1 Axes>"
      ]
     },
     "metadata": {
      "needs_background": "light"
     },
     "output_type": "display_data"
    },
    {
     "data": {
      "image/png": "[encoded data removed]",
      "text/plain": [
       "<Figure size 432x288 with 1 Axes>"
      ]
     },
     "metadata": {
      "needs_background": "light"
     },
     "output_type": "display_data"
    }
   ],
   "source": [
    "main()"
   ]
  },
  {
   "cell_type": "code",
   "execution_count": 6,
   "metadata": {},
   "outputs": [
    {
     "name": "stdout",
     "output_type": "stream",
     "text": [
      "2.1.0\n",
      "2.3.1\n"
     ]
    }
   ],
   "source": [
    "import tensorflow as tf\n",
    "print(tf.__version__)\n",
    "print(keras.__version__)\n"
   ]
  },
  {
   "cell_type": "code",
   "execution_count": 7,
   "metadata": {},
   "outputs": [
    {
     "name": "stdout",
     "output_type": "stream",
     "text": [
      "[name: \"/device:CPU:0\"\n",
      "device_type: \"CPU\"\n",
      "memory_limit: 268435456\n",
      "locality {\n",
      "}\n",
      "incarnation: 9946540174051821843\n",
      ", name: \"/device:XLA_CPU:0\"\n",
      "device_type: \"XLA_CPU\"\n",
      "memory_limit: 17179869184\n",
      "locality {\n",
      "}\n",
      "incarnation: 17760989508658318245\n",
      "physical_device_desc: \"device: XLA_CPU device\"\n",
      ", name: \"/device:XLA_GPU:0\"\n",
      "device_type: \"XLA_GPU\"\n",
      "memory_limit: 17179869184\n",
      "locality {\n",
      "}\n",
      "incarnation: 10018728663798654120\n",
      "physical_device_desc: \"device: XLA_GPU device\"\n",
      ", name: \"/device:GPU:0\"\n",
      "device_type: \"GPU\"\n",
      "memory_limit: 3599499264\n",
      "locality {\n",
      "  bus_id: 1\n",
      "  links {\n",
      "  }\n",
      "}\n",
      "incarnation: 14722221312386356621\n",
      "physical_device_desc: \"device: 0, name: GeForce GTX 1050, pci bus id: 0000:01:00.0, compute capability: 6.1\"\n",
      "]\n"
     ]
    }
   ],
   "source": [
    "from tensorflow.python.client import device_lib\n",
    "print(device_lib.list_local_devices())"
   ]
  },
  {
   "cell_type": "code",
   "execution_count": null,
   "metadata": {},
   "outputs": [],
   "source": []
  }
 ],
 "metadata": {
  "kernelspec": {
   "display_name": "Python 3",
   "language": "python",
   "name": "python3"
  },
  "language_info": {
   "codemirror_mode": {
    "name": "ipython",
    "version": 3
   },
   "file_extension": ".py",
   "mimetype": "text/x-python",
   "name": "python",
   "nbconvert_exporter": "python",
   "pygments_lexer": "ipython3",
   "version": "3.7.6"
  }
 },
 "nbformat": 4,
 "nbformat_minor": 4
}
