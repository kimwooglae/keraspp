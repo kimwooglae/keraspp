{
 "cells": [
  {
   "cell_type": "code",
   "execution_count": 1,
   "metadata": {},
   "outputs": [
    {
     "name": "stderr",
     "output_type": "stream",
     "text": [
      "Using TensorFlow backend.\n"
     ]
    }
   ],
   "source": [
    "from keras.layers import Lambda, Input\n",
    "from keras.models import Model"
   ]
  },
  {
   "cell_type": "code",
   "execution_count": 12,
   "metadata": {},
   "outputs": [],
   "source": [
    "x = Input((1,))\n",
    "y = Lambda(lambda x: x + 21)(x)\n",
    "m = Model(x, y)"
   ]
  },
  {
   "cell_type": "code",
   "execution_count": 13,
   "metadata": {},
   "outputs": [
    {
     "name": "stdout",
     "output_type": "stream",
     "text": [
      "np.array([1,2,3]) + 1:\n",
      "[[22.]\n",
      " [23.]\n",
      " [24.]]\n"
     ]
    }
   ],
   "source": [
    "yp = m.predict_on_batch([1, 2, 3])\n",
    "print('np.array([1,2,3]) + 1:')\n",
    "print(yp)"
   ]
  },
  {
   "cell_type": "code",
   "execution_count": 14,
   "metadata": {},
   "outputs": [],
   "source": [
    "def kproc(x):\n",
    "    return x ** 2 + 2 * x +1"
   ]
  },
  {
   "cell_type": "code",
   "execution_count": 15,
   "metadata": {},
   "outputs": [],
   "source": [
    "def kshape(input_shape):\n",
    "    return input_shape"
   ]
  },
  {
   "cell_type": "code",
   "execution_count": 16,
   "metadata": {},
   "outputs": [],
   "source": [
    "x = Input((1,))\n",
    "y = Lambda(kproc, kshape)(x)\n",
    "m = Model(x, y)"
   ]
  },
  {
   "cell_type": "code",
   "execution_count": 17,
   "metadata": {},
   "outputs": [
    {
     "name": "stdout",
     "output_type": "stream",
     "text": [
      "Tensor(\"input_4:0\", shape=(None, 1), dtype=float32)\n"
     ]
    }
   ],
   "source": [
    "print(x)"
   ]
  },
  {
   "cell_type": "code",
   "execution_count": 18,
   "metadata": {},
   "outputs": [
    {
     "name": "stdout",
     "output_type": "stream",
     "text": [
      "Tensor(\"lambda_4/add_1:0\", shape=(None, 1), dtype=float32)\n"
     ]
    }
   ],
   "source": [
    "print(y)"
   ]
  },
  {
   "cell_type": "code",
   "execution_count": 19,
   "metadata": {},
   "outputs": [
    {
     "name": "stdout",
     "output_type": "stream",
     "text": [
      "<keras.engine.training.Model object at 0x7fdf2b3358d0>\n"
     ]
    }
   ],
   "source": [
    "print(m)"
   ]
  },
  {
   "cell_type": "code",
   "execution_count": 20,
   "metadata": {},
   "outputs": [],
   "source": [
    "yp = m.predict_on_batch([1,2,3])"
   ]
  },
  {
   "cell_type": "code",
   "execution_count": 21,
   "metadata": {},
   "outputs": [
    {
     "name": "stdout",
     "output_type": "stream",
     "text": [
      "[[ 4.]\n",
      " [ 9.]\n",
      " [16.]]\n"
     ]
    }
   ],
   "source": [
    "print(yp)"
   ]
  },
  {
   "cell_type": "code",
   "execution_count": 10,
   "metadata": {},
   "outputs": [],
   "source": [
    "from keras import backend as K\n",
    "import numpy as np"
   ]
  },
  {
   "cell_type": "code",
   "execution_count": 3,
   "metadata": {},
   "outputs": [],
   "source": [
    "def kproc_concat(x):\n",
    "    m = K.mean(x, axis=1, keepdims=True)\n",
    "    d1 = K.abs(x - m)\n",
    "    d2 = K.square(x - m)\n",
    "    print('x', x)\n",
    "    print('m', m)\n",
    "    print('d1', d1)\n",
    "    print('d2', d2)\n",
    "    print('K.concatenate([x, d1, d2], axis=1)', K.concatenate([x, d1, d2], axis=1))\n",
    "    return K.concatenate([x, d1, d2], axis=1)"
   ]
  },
  {
   "cell_type": "code",
   "execution_count": 4,
   "metadata": {},
   "outputs": [],
   "source": [
    "def kshape_concat(input_shape):\n",
    "    output_shape = list(input_shape)\n",
    "    output_shape[1] *= 3\n",
    "    print(input_shape)\n",
    "    print(output_shape)\n",
    "    return tuple(output_shape)"
   ]
  },
  {
   "cell_type": "code",
   "execution_count": 24,
   "metadata": {},
   "outputs": [
    {
     "name": "stdout",
     "output_type": "stream",
     "text": [
      "x Tensor(\"input_5:0\", shape=(None, 3), dtype=float32)\n",
      "m Tensor(\"lambda_5/Mean:0\", shape=(None, 1), dtype=float32)\n",
      "d1 Tensor(\"lambda_5/Abs:0\", shape=(None, 3), dtype=float32)\n",
      "d2 Tensor(\"lambda_5/Square:0\", shape=(None, 3), dtype=float32)\n",
      "K.concatenate([x, d1, d2], axis=1) Tensor(\"lambda_5/concat:0\", shape=(None, 9), dtype=float32)\n",
      "(None, 3)\n",
      "[None, 9]\n",
      "... x Tensor(\"input_5:0\", shape=(None, 3), dtype=float32)\n",
      "... y Tensor(\"lambda_5/concat_1:0\", shape=(None, 9), dtype=float32)\n",
      "... m <keras.engine.training.Model object at 0x7fdf2b41c2d0>\n"
     ]
    }
   ],
   "source": [
    "x = Input((3,))\n",
    "y = Lambda(kproc_concat, kshape_concat)(x)\n",
    "m = Model(x, y)\n",
    "print('... x', x)\n",
    "print('... y', y)\n",
    "print('... m', m)"
   ]
  },
  {
   "cell_type": "code",
   "execution_count": 26,
   "metadata": {},
   "outputs": [
    {
     "name": "stdout",
     "output_type": "stream",
     "text": [
      "Model: \"model_5\"\n",
      "_________________________________________________________________\n",
      "Layer (type)                 Output Shape              Param #   \n",
      "=================================================================\n",
      "input_5 (InputLayer)         (None, 3)                 0         \n",
      "_________________________________________________________________\n",
      "lambda_5 (Lambda)            (None, 9)                 0         \n",
      "=================================================================\n",
      "Total params: 0\n",
      "Trainable params: 0\n",
      "Non-trainable params: 0\n",
      "_________________________________________________________________\n",
      "None\n",
      "shape(xp) (3, 3)\n",
      "xp [[1 2 3]\n",
      " [3 4 8]\n",
      " [3 4 8]]\n",
      "[[1. 2. 3. 1. 0. 1. 1. 0. 1.]\n",
      " [3. 4. 8. 2. 1. 3. 4. 1. 9.]\n",
      " [3. 4. 8. 2. 1. 3. 4. 1. 9.]]\n"
     ]
    }
   ],
   "source": [
    "print(m.summary())\n",
    "xp = np.array([[1, 2, 3], [3, 4, 8], [3, 4, 8]])  # numpy로 변환하지 않으면 오류 발생\n",
    "print('shape(xp)', xp.shape )\n",
    "print('xp', xp)\n",
    "yp = m.predict_on_batch(xp)\n",
    "\n",
    "print(yp)"
   ]
  },
  {
   "cell_type": "code",
   "execution_count": null,
   "metadata": {},
   "outputs": [],
   "source": []
  }
 ],
 "metadata": {
  "kernelspec": {
   "display_name": "Python 3",
   "language": "python",
   "name": "python3"
  },
  "language_info": {
   "codemirror_mode": {
    "name": "ipython",
    "version": 3
   },
   "file_extension": ".py",
   "mimetype": "text/x-python",
   "name": "python",
   "nbconvert_exporter": "python",
   "pygments_lexer": "ipython3",
   "version": "3.7.6"
  }
 },
 "nbformat": 4,
 "nbformat_minor": 4
}
