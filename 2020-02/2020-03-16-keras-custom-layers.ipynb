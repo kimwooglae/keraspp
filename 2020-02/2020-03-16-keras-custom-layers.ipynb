{
 "cells": [
  {
   "cell_type": "code",
   "execution_count": 1,
   "metadata": {},
   "outputs": [
    {
     "name": "stderr",
     "output_type": "stream",
     "text": [
      "Using TensorFlow backend.\n"
     ]
    }
   ],
   "source": [
    "from keras import backend as K\n",
    "from keras.engine.topology import Layer\n",
    "import numpy as np\n",
    "import keras"
   ]
  },
  {
   "cell_type": "code",
   "execution_count": 2,
   "metadata": {},
   "outputs": [],
   "source": [
    "from keras import initializers\n",
    "igu = initializers.get('glorot_uniform')\n",
    "iz = initializers.get('zeros')"
   ]
  },
  {
   "cell_type": "code",
   "execution_count": 3,
   "metadata": {},
   "outputs": [],
   "source": [
    "class SFC(Layer):\n",
    "    def __init__(self, No, **kwargs):\n",
    "        self.No = No\n",
    "        super().__init__(**kwargs)\n",
    "        \n",
    "    def build(self, inshape):\n",
    "        self.w = self.add_weight('w', (inshape[1], self.No), initializer=igu)\n",
    "        self.b = self.add_weight('b', (self.No,), initializer=iz)\n",
    "        super().build(inshape)\n",
    "    \n",
    "    def call(self, x):\n",
    "        return K.dot(x, self.w) + self.b\n",
    "    \n",
    "    def compute_output_shape(self, inshape):\n",
    "        return (inshape[0], self.No)\n",
    "    \n",
    "    "
   ]
  },
  {
   "cell_type": "code",
   "execution_count": 4,
   "metadata": {},
   "outputs": [],
   "source": [
    "x = np.array([0, 1, 2, 3, 4])\n",
    "y = x * 2 + 1"
   ]
  },
  {
   "cell_type": "code",
   "execution_count": 5,
   "metadata": {
    "scrolled": false
   },
   "outputs": [],
   "source": [
    "model = keras.models.Sequential()"
   ]
  },
  {
   "cell_type": "code",
   "execution_count": 6,
   "metadata": {},
   "outputs": [],
   "source": [
    "model.add(SFC(1, input_shape=(1,)))"
   ]
  },
  {
   "cell_type": "code",
   "execution_count": 7,
   "metadata": {},
   "outputs": [],
   "source": [
    "model.compile('SGD', 'mse')"
   ]
  },
  {
   "cell_type": "code",
   "execution_count": 9,
   "metadata": {},
   "outputs": [
    {
     "name": "stdout",
     "output_type": "stream",
     "text": [
      "Targets: [1 3]\n",
      "Predictions: [4.998739  6.9978256 8.996913 ]\n"
     ]
    }
   ],
   "source": [
    "model.fit(x[:2], y[:2], epochs=1000, verbose=0)\n",
    "print('Targets:', y[:2])\n",
    "print('Predictions:', model.predict(x[2:]).flatten())"
   ]
  },
  {
   "cell_type": "code",
   "execution_count": null,
   "metadata": {},
   "outputs": [],
   "source": []
  }
 ],
 "metadata": {
  "kernelspec": {
   "display_name": "Python 3",
   "language": "python",
   "name": "python3"
  },
  "language_info": {
   "codemirror_mode": {
    "name": "ipython",
    "version": 3
   },
   "file_extension": ".py",
   "mimetype": "text/x-python",
   "name": "python",
   "nbconvert_exporter": "python",
   "pygments_lexer": "ipython3",
   "version": "3.7.6"
  }
 },
 "nbformat": 4,
 "nbformat_minor": 4
}
