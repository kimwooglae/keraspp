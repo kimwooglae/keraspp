{
 "cells": [
  {
   "cell_type": "code",
   "execution_count": 1,
   "metadata": {},
   "outputs": [
    {
     "name": "stderr",
     "output_type": "stream",
     "text": [
      "Using TensorFlow backend.\n"
     ]
    }
   ],
   "source": [
    "import tensorflow as tf\n",
    "import numpy as np\n",
    "from keras.layers import Lambda, Input\n",
    "from keras.models import Model"
   ]
  },
  {
   "cell_type": "code",
   "execution_count": 7,
   "metadata": {},
   "outputs": [],
   "source": [
    "def kproc_concat(x):\n",
    "    m = tf.reduce_mean(x, axis=1, keepdims=True) #keep_dims는 1.4이전에 사용. \n",
    "    d1 = tf.abs(x - m)\n",
    "    d2 = tf.square(x - m)\n",
    "    return tf.concat([x, d1, d2], axis=1)"
   ]
  },
  {
   "cell_type": "code",
   "execution_count": 8,
   "metadata": {},
   "outputs": [],
   "source": [
    "def kshape_concat(input_shape):\n",
    "    output_shape = list(input_shape)\n",
    "    output_shape[1] *= 3\n",
    "    return tuple(output_shape)"
   ]
  },
  {
   "cell_type": "code",
   "execution_count": 9,
   "metadata": {},
   "outputs": [
    {
     "name": "stdout",
     "output_type": "stream",
     "text": [
      "[[1. 2. 3. 1. 0. 1. 1. 0. 1.]\n",
      " [3. 4. 8. 2. 1. 3. 4. 1. 9.]]\n"
     ]
    }
   ],
   "source": [
    "x = Input((3,))\n",
    "y = Lambda(kproc_concat, kshape_concat)(x)\n",
    "m = Model(x, y)\n",
    "yp = m.predict_on_batch(np.array([[1, 2, 3], [3, 4, 8]]))  # np.array를 사용해야 오류가 발생안됨\n",
    "print(yp)"
   ]
  },
  {
   "cell_type": "code",
   "execution_count": null,
   "metadata": {},
   "outputs": [],
   "source": []
  }
 ],
 "metadata": {
  "kernelspec": {
   "display_name": "Python 3",
   "language": "python",
   "name": "python3"
  },
  "language_info": {
   "codemirror_mode": {
    "name": "ipython",
    "version": 3
   },
   "file_extension": ".py",
   "mimetype": "text/x-python",
   "name": "python",
   "nbconvert_exporter": "python",
   "pygments_lexer": "ipython3",
   "version": "3.7.6"
  }
 },
 "nbformat": 4,
 "nbformat_minor": 4
}
