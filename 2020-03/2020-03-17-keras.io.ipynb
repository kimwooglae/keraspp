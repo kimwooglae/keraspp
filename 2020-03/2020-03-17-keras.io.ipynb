{
 "cells": [
  {
   "cell_type": "code",
   "execution_count": 1,
   "metadata": {
    "scrolled": true
   },
   "outputs": [
    {
     "name": "stderr",
     "output_type": "stream",
     "text": [
      "Using TensorFlow backend.\n"
     ]
    }
   ],
   "source": [
    "import keras\n",
    "from keras.models import Sequential\n",
    "from keras.layers import Dense, Activation"
   ]
  },
  {
   "cell_type": "code",
   "execution_count": 2,
   "metadata": {},
   "outputs": [],
   "source": [
    "model = Sequential([\n",
    "    Dense(32, input_shape=(784,)),\n",
    "    Activation('relu'),\n",
    "    Dense(10),\n",
    "    Activation('softmax')\n",
    "])"
   ]
  },
  {
   "cell_type": "code",
   "execution_count": 3,
   "metadata": {},
   "outputs": [],
   "source": [
    "model1 = Sequential()\n",
    "model1.add(Dense(32, input_shape=(784,)))\n",
    "model1.add(Activation('relu'))\n",
    "model1.add(Dense(10))\n",
    "model1.add(Activation('softmax'))"
   ]
  },
  {
   "cell_type": "code",
   "execution_count": 4,
   "metadata": {},
   "outputs": [
    {
     "name": "stdout",
     "output_type": "stream",
     "text": [
      "Epoch 1/10\n",
      "1000/1000 [==============================] - 0s 308us/step - loss: 0.7091 - accuracy: 0.4760\n",
      "Epoch 2/10\n",
      "1000/1000 [==============================] - 0s 59us/step - loss: 0.6986 - accuracy: 0.5070\n",
      "Epoch 3/10\n",
      "1000/1000 [==============================] - 0s 59us/step - loss: 0.6922 - accuracy: 0.5130\n",
      "Epoch 4/10\n",
      "1000/1000 [==============================] - 0s 56us/step - loss: 0.6869 - accuracy: 0.5510\n",
      "Epoch 5/10\n",
      "1000/1000 [==============================] - 0s 58us/step - loss: 0.6836 - accuracy: 0.5580\n",
      "Epoch 6/10\n",
      "1000/1000 [==============================] - 0s 57us/step - loss: 0.6805 - accuracy: 0.5650\n",
      "Epoch 7/10\n",
      "1000/1000 [==============================] - 0s 58us/step - loss: 0.6761 - accuracy: 0.5760\n",
      "Epoch 8/10\n",
      "1000/1000 [==============================] - 0s 58us/step - loss: 0.6732 - accuracy: 0.6070\n",
      "Epoch 9/10\n",
      "1000/1000 [==============================] - 0s 57us/step - loss: 0.6686 - accuracy: 0.5980\n",
      "Epoch 10/10\n",
      "1000/1000 [==============================] - 0s 59us/step - loss: 0.6658 - accuracy: 0.6040\n"
     ]
    },
    {
     "data": {
      "text/plain": [
       "<keras.callbacks.callbacks.History at 0x7f56d0798690>"
      ]
     },
     "execution_count": 4,
     "metadata": {},
     "output_type": "execute_result"
    }
   ],
   "source": [
    "model2 = Sequential()\n",
    "model2.add(Dense(32, activation='relu', input_dim=100))\n",
    "model2.add(Dense(1, activation='sigmoid'))\n",
    "model2.compile(optimizer='rmsprop', loss='binary_crossentropy', metrics=['accuracy'])\n",
    "\n",
    "import numpy as np\n",
    "data = np.random.random((1000, 100))\n",
    "\n",
    "labels = np.random.randint(2, size=(1000, 1))\n",
    "\n",
    "model2.fit(data, labels, epochs=10, batch_size=32)"
   ]
  },
  {
   "cell_type": "code",
   "execution_count": 5,
   "metadata": {},
   "outputs": [
    {
     "name": "stdout",
     "output_type": "stream",
     "text": [
      "Epoch 1/10\n",
      "1000/1000 [==============================] - 0s 119us/step - loss: 2.3613 - accuracy: 0.1090\n",
      "Epoch 2/10\n",
      "1000/1000 [==============================] - 0s 56us/step - loss: 2.3211 - accuracy: 0.1040\n",
      "Epoch 3/10\n",
      "1000/1000 [==============================] - 0s 57us/step - loss: 2.3094 - accuracy: 0.1150\n",
      "Epoch 4/10\n",
      "1000/1000 [==============================] - 0s 58us/step - loss: 2.3023 - accuracy: 0.1310\n",
      "Epoch 5/10\n",
      "1000/1000 [==============================] - 0s 57us/step - loss: 2.2932 - accuracy: 0.1350\n",
      "Epoch 6/10\n",
      "1000/1000 [==============================] - 0s 56us/step - loss: 2.2861 - accuracy: 0.1250\n",
      "Epoch 7/10\n",
      "1000/1000 [==============================] - 0s 58us/step - loss: 2.2777 - accuracy: 0.1340\n",
      "Epoch 8/10\n",
      "1000/1000 [==============================] - 0s 56us/step - loss: 2.2707 - accuracy: 0.1460\n",
      "Epoch 9/10\n",
      "1000/1000 [==============================] - 0s 57us/step - loss: 2.2627 - accuracy: 0.1520\n",
      "Epoch 10/10\n",
      "1000/1000 [==============================] - 0s 55us/step - loss: 2.2537 - accuracy: 0.1760\n"
     ]
    },
    {
     "data": {
      "text/plain": [
       "<keras.callbacks.callbacks.History at 0x7f56d0658f50>"
      ]
     },
     "execution_count": 5,
     "metadata": {},
     "output_type": "execute_result"
    }
   ],
   "source": [
    "model3 = Sequential()\n",
    "model3.add(Dense(32, activation='relu', input_dim=100))\n",
    "model3.add(Dense(10, activation='softmax'))\n",
    "model3.compile(optimizer='rmsprop', loss='categorical_crossentropy',\n",
    "              metrics=['accuracy'])\n",
    "\n",
    "import numpy as np\n",
    "data = np.random.random((1000, 100))\n",
    "labels = np.random.randint(10, size=(1000, 1))\n",
    "\n",
    "one_hot_labels = keras.utils.to_categorical(labels, num_classes=10)\n",
    "model3.fit(data, one_hot_labels, epochs=10, batch_size=32)"
   ]
  },
  {
   "cell_type": "code",
   "execution_count": null,
   "metadata": {},
   "outputs": [],
   "source": []
  }
 ],
 "metadata": {
  "kernelspec": {
   "display_name": "Python 3",
   "language": "python",
   "name": "python3"
  },
  "language_info": {
   "codemirror_mode": {
    "name": "ipython",
    "version": 3
   },
   "file_extension": ".py",
   "mimetype": "text/x-python",
   "name": "python",
   "nbconvert_exporter": "python",
   "pygments_lexer": "ipython3",
   "version": "3.7.6"
  }
 },
 "nbformat": 4,
 "nbformat_minor": 4
}
