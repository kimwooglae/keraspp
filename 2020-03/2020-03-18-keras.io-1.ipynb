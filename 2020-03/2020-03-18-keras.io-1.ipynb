{
 "cells": [
  {
   "cell_type": "code",
   "execution_count": 6,
   "metadata": {},
   "outputs": [],
   "source": [
    "from keras.layers import Input, Dense\n",
    "from keras.models import Model\n",
    "from keras.datasets import mnist\n",
    "import keras"
   ]
  },
  {
   "cell_type": "code",
   "execution_count": 15,
   "metadata": {},
   "outputs": [],
   "source": [
    "inputs = Input(shape=(784,))\n",
    "\n",
    "x = Dense(64, activation='relu')(inputs)\n",
    "x = Dense(64, activation='relu')(x)\n",
    "predictions = Dense(10, activation='softmax')(x)\n",
    "\n",
    "model = Model(inputs=inputs, outputs=predictions)\n",
    "model.compile(optimizer='rmsprop', loss='categorical_crossentropy',\n",
    "             metrics=['accuracy'])"
   ]
  },
  {
   "cell_type": "code",
   "execution_count": 16,
   "metadata": {},
   "outputs": [],
   "source": [
    "(x_train, y_train), (x_test, y_test) = mnist.load_data()"
   ]
  },
  {
   "cell_type": "code",
   "execution_count": 31,
   "metadata": {},
   "outputs": [],
   "source": [
    "L, W, H = x_train.shape\n",
    "X_train = x_train.reshape(-1, W*H)\n",
    "X_test = x_test.reshape(-1, W*H)\n",
    "\n",
    "X_train1 = x_train.reshape(-1, 20, W*H)\n",
    "X_test1 = x_test.reshape(-1, 20, W*H)\n"
   ]
  },
  {
   "cell_type": "code",
   "execution_count": 43,
   "metadata": {},
   "outputs": [],
   "source": [
    "Y_train = keras.utils.to_categorical(y_train)\n",
    "Y_test = keras.utils.to_categorical(y_test)\n",
    "\n",
    "Y_train1 = Y_train.reshape(-1, 20, 10)\n",
    "Y_test1 = Y_test.reshape(-1, 20, 10)\n"
   ]
  },
  {
   "cell_type": "code",
   "execution_count": 33,
   "metadata": {},
   "outputs": [
    {
     "name": "stdout",
     "output_type": "stream",
     "text": [
      "Epoch 1/1\n",
      "60000/60000 [==============================] - 4s 61us/step - loss: 0.4210 - accuracy: 0.9236\n"
     ]
    },
    {
     "data": {
      "text/plain": [
       "<keras.callbacks.callbacks.History at 0x7f58cc5259d0>"
      ]
     },
     "execution_count": 33,
     "metadata": {},
     "output_type": "execute_result"
    }
   ],
   "source": [
    "model.fit(X_train, Y_train)"
   ]
  },
  {
   "cell_type": "code",
   "execution_count": 34,
   "metadata": {},
   "outputs": [
    {
     "name": "stdout",
     "output_type": "stream",
     "text": [
      "Epoch 1/1\n",
      "60000/60000 [==============================] - 4s 60us/step - loss: 0.3241 - accuracy: 0.9404\n"
     ]
    },
    {
     "data": {
      "text/plain": [
       "<keras.callbacks.callbacks.History at 0x7f58cc2da250>"
      ]
     },
     "execution_count": 34,
     "metadata": {},
     "output_type": "execute_result"
    }
   ],
   "source": [
    "model.fit(X_train, Y_train)"
   ]
  },
  {
   "cell_type": "code",
   "execution_count": 35,
   "metadata": {},
   "outputs": [],
   "source": [
    "from keras.layers import TimeDistributed"
   ]
  },
  {
   "cell_type": "code",
   "execution_count": 36,
   "metadata": {},
   "outputs": [],
   "source": [
    "# 20 시간 단계의 시퀀스에 대한 인풋 텐서로,\n",
    "# 각각 784 차원의 벡터를 담고 있습니다.\n",
    "input_sequences = Input(shape=(20, 784))\n",
    "\n",
    "# 인풋 시퀀스의 모든 시간 단계에 이전 모델을 적용합니다.\n",
    "# 이전 모델의 아웃풋이 10 방향 소프트맥스였으므로,\n",
    "# 아래 레이어의 아웃풋은 크기 10의 벡터 20개로 이루어진 시퀀스입니다.\n",
    "processed_sequences = TimeDistributed(model)(input_sequences)"
   ]
  },
  {
   "cell_type": "code",
   "execution_count": 37,
   "metadata": {},
   "outputs": [
    {
     "data": {
      "text/plain": [
       "<tf.Tensor 'time_distributed_3/Reshape_1:0' shape=(None, 20, 10) dtype=float32>"
      ]
     },
     "execution_count": 37,
     "metadata": {},
     "output_type": "execute_result"
    }
   ],
   "source": [
    "processed_sequences"
   ]
  },
  {
   "cell_type": "code",
   "execution_count": 38,
   "metadata": {},
   "outputs": [
    {
     "data": {
      "text/plain": [
       "<tf.Tensor 'dense_8/Relu:0' shape=(None, 64) dtype=float32>"
      ]
     },
     "execution_count": 38,
     "metadata": {},
     "output_type": "execute_result"
    }
   ],
   "source": [
    "x"
   ]
  },
  {
   "cell_type": "code",
   "execution_count": 49,
   "metadata": {},
   "outputs": [],
   "source": [
    "model1 = Model(inputs=input_sequences, outputs=processed_sequences)"
   ]
  },
  {
   "cell_type": "code",
   "execution_count": 50,
   "metadata": {},
   "outputs": [],
   "source": [
    "model1.compile(optimizer='rmsprop', loss='categorical_crossentropy',\n",
    "              metrics=['accuracy'])"
   ]
  },
  {
   "cell_type": "code",
   "execution_count": 51,
   "metadata": {},
   "outputs": [
    {
     "name": "stdout",
     "output_type": "stream",
     "text": [
      "Train on 2400 samples, validate on 600 samples\n",
      "Epoch 1/15\n",
      "2400/2400 [==============================] - 1s 299us/step - loss: 0.0526 - accuracy: 0.9883 - val_loss: 0.2188 - val_accuracy: 0.9678\n",
      "Epoch 2/15\n",
      "2400/2400 [==============================] - 1s 255us/step - loss: 0.0453 - accuracy: 0.9898 - val_loss: 0.2458 - val_accuracy: 0.9670\n",
      "Epoch 3/15\n",
      "2400/2400 [==============================] - 1s 257us/step - loss: 0.0434 - accuracy: 0.9900 - val_loss: 0.2591 - val_accuracy: 0.9657\n",
      "Epoch 4/15\n",
      "2400/2400 [==============================] - 1s 257us/step - loss: 0.0427 - accuracy: 0.9905 - val_loss: 0.2588 - val_accuracy: 0.9655\n",
      "Epoch 5/15\n",
      "2400/2400 [==============================] - 1s 257us/step - loss: 0.0439 - accuracy: 0.9910 - val_loss: 0.2689 - val_accuracy: 0.9672\n",
      "Epoch 6/15\n",
      "2400/2400 [==============================] - 1s 256us/step - loss: 0.0409 - accuracy: 0.9915 - val_loss: 0.2811 - val_accuracy: 0.9647\n",
      "Epoch 7/15\n",
      "2400/2400 [==============================] - 1s 258us/step - loss: 0.0424 - accuracy: 0.9914 - val_loss: 0.2830 - val_accuracy: 0.9658\n",
      "Epoch 8/15\n",
      "2400/2400 [==============================] - 1s 257us/step - loss: 0.0411 - accuracy: 0.9914 - val_loss: 0.2580 - val_accuracy: 0.9679\n",
      "Epoch 9/15\n",
      "2400/2400 [==============================] - 1s 259us/step - loss: 0.0331 - accuracy: 0.9927 - val_loss: 0.2582 - val_accuracy: 0.9690\n",
      "Epoch 10/15\n",
      "2400/2400 [==============================] - 1s 259us/step - loss: 0.0351 - accuracy: 0.9925 - val_loss: 0.2913 - val_accuracy: 0.9650\n",
      "Epoch 11/15\n",
      "2400/2400 [==============================] - 1s 258us/step - loss: 0.0344 - accuracy: 0.9928 - val_loss: 0.2659 - val_accuracy: 0.9680\n",
      "Epoch 12/15\n",
      "2400/2400 [==============================] - 1s 259us/step - loss: 0.0379 - accuracy: 0.9926 - val_loss: 0.2561 - val_accuracy: 0.9689\n",
      "Epoch 13/15\n",
      "2400/2400 [==============================] - 1s 258us/step - loss: 0.0377 - accuracy: 0.9926 - val_loss: 0.2745 - val_accuracy: 0.9679\n",
      "Epoch 14/15\n",
      "2400/2400 [==============================] - 1s 256us/step - loss: 0.0349 - accuracy: 0.9935 - val_loss: 0.2795 - val_accuracy: 0.9677\n",
      "Epoch 15/15\n",
      "2400/2400 [==============================] - 1s 259us/step - loss: 0.0326 - accuracy: 0.9936 - val_loss: 0.2998 - val_accuracy: 0.9672\n"
     ]
    },
    {
     "data": {
      "text/plain": [
       "<keras.callbacks.callbacks.History at 0x7f58f853d9d0>"
      ]
     },
     "execution_count": 51,
     "metadata": {},
     "output_type": "execute_result"
    }
   ],
   "source": [
    "model1.fit(X_train1, Y_train1, \n",
    "           epochs=15, batch_size=10, validation_split=0.2)"
   ]
  },
  {
   "cell_type": "code",
   "execution_count": null,
   "metadata": {},
   "outputs": [],
   "source": []
  }
 ],
 "metadata": {
  "kernelspec": {
   "display_name": "Python 3",
   "language": "python",
   "name": "python3"
  },
  "language_info": {
   "codemirror_mode": {
    "name": "ipython",
    "version": 3
   },
   "file_extension": ".py",
   "mimetype": "text/x-python",
   "name": "python",
   "nbconvert_exporter": "python",
   "pygments_lexer": "ipython3",
   "version": "3.7.6"
  }
 },
 "nbformat": 4,
 "nbformat_minor": 4
}
